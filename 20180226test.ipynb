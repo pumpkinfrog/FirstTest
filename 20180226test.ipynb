{
 "cells": [
  {
   "cell_type": "markdown",
   "metadata": {},
   "source": [
    "Ctrl + Enter: 执行单元格代码\n",
    "\n",
    "Shift + Enter: 执行单元格代码并且移动到下一个单元格\n",
    "\n",
    "Alt + Enter: 执行单元格代码，新建并移动到下一个单元格\n",
    "***********************************************\n",
    "设定多版本python kernel\n",
    "安装python2的内核并应用\n",
    "python2 -m pip install ipykernel\n",
    "python2 -m ipykernel install --user\n",
    "\n",
    "安装python3的内核并应用\n",
    "python3 -m pip install ipykernel\n",
    "python3 -m ipykernel install --user\n"
   ]
  },
  {
   "cell_type": "code",
   "execution_count": 1,
   "metadata": {},
   "outputs": [],
   "source": [
    "namestr=\"liuyuanyuan\""
   ]
  },
  {
   "cell_type": "code",
   "execution_count": 2,
   "metadata": {},
   "outputs": [
    {
     "data": {
      "text/plain": [
       "'liuyuanyuan'"
      ]
     },
     "execution_count": 2,
     "metadata": {},
     "output_type": "execute_result"
    }
   ],
   "source": [
    "namestr"
   ]
  },
  {
   "cell_type": "code",
   "execution_count": 3,
   "metadata": {},
   "outputs": [
    {
     "name": "stdout",
     "output_type": "stream",
     "text": [
      "liuyuanyuan\n"
     ]
    }
   ],
   "source": [
    "print (namestr)"
   ]
  },
  {
   "cell_type": "code",
   "execution_count": 4,
   "metadata": {},
   "outputs": [
    {
     "data": {
      "text/plain": [
       "str"
      ]
     },
     "execution_count": 4,
     "metadata": {},
     "output_type": "execute_result"
    }
   ],
   "source": [
    "type(namestr)"
   ]
  },
  {
   "cell_type": "code",
   "execution_count": 8,
   "metadata": {},
   "outputs": [
    {
     "ename": "SyntaxError",
     "evalue": "invalid syntax (<ipython-input-8-4281dd070493>, line 12)",
     "output_type": "error",
     "traceback": [
      "\u001b[0;36m  File \u001b[0;32m\"<ipython-input-8-4281dd070493>\"\u001b[0;36m, line \u001b[0;32m12\u001b[0m\n\u001b[0;31m    type(print (namestr))\u001b[0m\n\u001b[0m             ^\u001b[0m\n\u001b[0;31mSyntaxError\u001b[0m\u001b[0;31m:\u001b[0m invalid syntax\n"
     ]
    }
   ],
   "source": [
    "#NoneType??\n",
    "'nonetype'\n",
    "'''\n",
    "20180224\n",
    "12:20\n",
    "\n",
    "'''\n",
    "type(print (namestr))"
   ]
  },
  {
   "cell_type": "code",
   "execution_count": null,
   "metadata": {},
   "outputs": [],
   "source": []
  }
 ],
 "metadata": {
  "kernelspec": {
   "display_name": "Python 2",
   "language": "python",
   "name": "python2"
  },
  "language_info": {
   "codemirror_mode": {
    "name": "ipython",
    "version": 2
   },
   "file_extension": ".py",
   "mimetype": "text/x-python",
   "name": "python",
   "nbconvert_exporter": "python",
   "pygments_lexer": "ipython2",
   "version": "2.7.14"
  }
 },
 "nbformat": 4,
 "nbformat_minor": 2
}
