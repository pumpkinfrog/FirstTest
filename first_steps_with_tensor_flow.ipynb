{
  "nbformat": 4,
  "nbformat_minor": 0,
  "metadata": {
    "colab": {
      "name": "first_steps_with_tensor_flow.ipynb",
      "version": "0.3.2",
      "provenance": [],
      "collapsed_sections": [
        "ajVM7rkoYXeL",
        "ci1ISxxrZ7v0",
        "copyright-notice"
      ]
    }
  },
  "cells": [
    {
      "cell_type": "markdown",
      "metadata": {
        "id": "view-in-github",
        "colab_type": "text"
      },
      "source": [
        "[View in Colaboratory](https://colab.research.google.com/github/pumpkinfrog/FirstTest/blob/master/first_steps_with_tensor_flow.ipynb)"
      ]
    },
    {
      "metadata": {
        "id": "copyright-notice",
        "colab_type": "text"
      },
      "cell_type": "markdown",
      "source": [
        "#### Copyright 2017 Google LLC."
      ]
    },
    {
      "metadata": {
        "id": "copyright-notice2",
        "colab_type": "code",
        "colab": {
          "base_uri": "https://localhost:8080/",
          "height": 10
        },
        "outputId": "84770af3-6930-4768-ab5a-24489f89f82f"
      },
      "cell_type": "code",
      "source": [
        "# Licensed under the Apache License, Version 2.0 (the \"License\");\n",
        "# you may not use this file except in compliance with the License.\n",
        "# You may obtain a copy of the License at\n",
        "#\n",
        "# https://www.apache.org/licenses/LICENSE-2.0\n",
        "#\n",
        "# Unless required by applicable law or agreed to in writing, software\n",
        "# distributed under the License is distributed on an \"AS IS\" BASIS,\n",
        "# WITHOUT WARRANTIES OR CONDITIONS OF ANY KIND, either express or implied.\n",
        "# See the License for the specific language governing permissions and\n",
        "# limitations under the License."
      ],
      "execution_count": 2,
      "outputs": []
    },
    {
      "metadata": {
        "id": "4f3CKqFUqL2-",
        "colab_type": "text"
      },
      "cell_type": "markdown",
      "source": [
        " # 使用 TensorFlow 的基本步骤"
      ]
    },
    {
      "metadata": {
        "id": "Bd2Zkk1LE2Zr",
        "colab_type": "text"
      },
      "cell_type": "markdown",
      "source": [
        " **学习目标：**\n",
        "  * 学习基本的 TensorFlow 概念\n",
        "  * 在 TensorFlow 中使用 `LinearRegressor` 类并基于单个输入特征预测各城市街区的房屋价值中位数\n",
        "  * 使用均方根误差 (RMSE) 评估模型预测的准确率\n",
        "  * 通过调整模型的超参数提高模型准确率"
      ]
    },
    {
      "metadata": {
        "id": "MxiIKhP4E2Zr",
        "colab_type": "text"
      },
      "cell_type": "markdown",
      "source": [
        " 数据基于加利福尼亚州 1990 年的人口普查数据。"
      ]
    },
    {
      "metadata": {
        "id": "6TjLjL9IU80G",
        "colab_type": "text"
      },
      "cell_type": "markdown",
      "source": [
        " ## 设置\n",
        "在此第一个单元格中，我们将加载必要的库。"
      ]
    },
    {
      "metadata": {
        "id": "rVFf5asKE2Zt",
        "colab_type": "code",
        "colab": {
          "base_uri": "https://localhost:8080/",
          "height": 17
        },
        "outputId": "25bd865d-6319-4e8c-9378-8a56702d73f3"
      },
      "cell_type": "code",
      "source": [
        "import math\n",
        "\n",
        "from IPython import display\n",
        "from matplotlib import cm\n",
        "from matplotlib import gridspec\n",
        "from matplotlib import pyplot as plt\n",
        "import numpy as np\n",
        "import pandas as pd\n",
        "from sklearn import metrics\n",
        "import tensorflow as tf\n",
        "from tensorflow.python.data import Dataset\n",
        "\n",
        "tf.logging.set_verbosity(tf.logging.ERROR)\n",
        "pd.options.display.max_rows = 10\n",
        "pd.options.display.float_format = '{:.1f}'.format"
      ],
      "execution_count": 3,
      "outputs": []
    },
    {
      "metadata": {
        "id": "ipRyUHjhU80Q",
        "colab_type": "text"
      },
      "cell_type": "markdown",
      "source": [
        " 接下来，我们将加载数据集。"
      ]
    },
    {
      "metadata": {
        "id": "9ivCDWnwE2Zx",
        "colab_type": "code",
        "colab": {
          "base_uri": "https://localhost:8080/",
          "height": 17
        },
        "outputId": "b9b2d074-fb93-4f87-beb1-c68e67b0f285"
      },
      "cell_type": "code",
      "source": [
        "california_housing_dataframe = pd.read_csv(\"https://storage.googleapis.com/mledu-datasets/california_housing_train.csv\", sep=\",\")"
      ],
      "execution_count": 4,
      "outputs": []
    },
    {
      "metadata": {
        "id": "vVk_qlG6U80j",
        "colab_type": "text"
      },
      "cell_type": "markdown",
      "source": [
        " 我们将对数据进行随机化处理，以确保不会出现任何病态排序结果（可能会损害随机梯度下降法的效果）。此外，我们会将 `median_house_value` 调整为以千为单位，这样，模型就能够以常用范围内的学习速率较为轻松地学习这些数据。"
      ]
    },
    {
      "metadata": {
        "id": "r0eVyguIU80m",
        "colab_type": "code",
        "colab": {
          "base_uri": "https://localhost:8080/",
          "height": 439
        },
        "outputId": "129cef44-3c8a-422c-aa3f-2fe4bda92210"
      },
      "cell_type": "code",
      "source": [
        "california_housing_dataframe = california_housing_dataframe.reindex(\n",
        "    np.random.permutation(california_housing_dataframe.index))\n",
        "california_housing_dataframe[\"median_house_value\"] /= 1000.0\n",
        "california_housing_dataframe"
      ],
      "execution_count": 5,
      "outputs": [
        {
          "output_type": "execute_result",
          "data": {
            "text/html": [
              "<div>\n",
              "<style scoped>\n",
              "    .dataframe tbody tr th:only-of-type {\n",
              "        vertical-align: middle;\n",
              "    }\n",
              "\n",
              "    .dataframe tbody tr th {\n",
              "        vertical-align: top;\n",
              "    }\n",
              "\n",
              "    .dataframe thead th {\n",
              "        text-align: right;\n",
              "    }\n",
              "</style>\n",
              "<table border=\"1\" class=\"dataframe\">\n",
              "  <thead>\n",
              "    <tr style=\"text-align: right;\">\n",
              "      <th></th>\n",
              "      <th>longitude</th>\n",
              "      <th>latitude</th>\n",
              "      <th>housing_median_age</th>\n",
              "      <th>total_rooms</th>\n",
              "      <th>total_bedrooms</th>\n",
              "      <th>population</th>\n",
              "      <th>households</th>\n",
              "      <th>median_income</th>\n",
              "      <th>median_house_value</th>\n",
              "    </tr>\n",
              "  </thead>\n",
              "  <tbody>\n",
              "    <tr>\n",
              "      <th>13212</th>\n",
              "      <td>-121.9</td>\n",
              "      <td>37.3</td>\n",
              "      <td>52.0</td>\n",
              "      <td>1009.0</td>\n",
              "      <td>231.0</td>\n",
              "      <td>929.0</td>\n",
              "      <td>210.0</td>\n",
              "      <td>2.5</td>\n",
              "      <td>162.5</td>\n",
              "    </tr>\n",
              "    <tr>\n",
              "      <th>7347</th>\n",
              "      <td>-118.3</td>\n",
              "      <td>34.3</td>\n",
              "      <td>52.0</td>\n",
              "      <td>102.0</td>\n",
              "      <td>29.0</td>\n",
              "      <td>54.0</td>\n",
              "      <td>32.0</td>\n",
              "      <td>2.0</td>\n",
              "      <td>191.7</td>\n",
              "    </tr>\n",
              "    <tr>\n",
              "      <th>6067</th>\n",
              "      <td>-118.2</td>\n",
              "      <td>33.9</td>\n",
              "      <td>36.0</td>\n",
              "      <td>873.0</td>\n",
              "      <td>240.0</td>\n",
              "      <td>1086.0</td>\n",
              "      <td>217.0</td>\n",
              "      <td>2.2</td>\n",
              "      <td>126.6</td>\n",
              "    </tr>\n",
              "    <tr>\n",
              "      <th>9315</th>\n",
              "      <td>-119.2</td>\n",
              "      <td>34.1</td>\n",
              "      <td>17.0</td>\n",
              "      <td>224.0</td>\n",
              "      <td>70.0</td>\n",
              "      <td>147.0</td>\n",
              "      <td>71.0</td>\n",
              "      <td>3.6</td>\n",
              "      <td>280.0</td>\n",
              "    </tr>\n",
              "    <tr>\n",
              "      <th>10036</th>\n",
              "      <td>-119.8</td>\n",
              "      <td>36.8</td>\n",
              "      <td>22.0</td>\n",
              "      <td>1529.0</td>\n",
              "      <td>375.0</td>\n",
              "      <td>1543.0</td>\n",
              "      <td>395.0</td>\n",
              "      <td>1.8</td>\n",
              "      <td>51.7</td>\n",
              "    </tr>\n",
              "    <tr>\n",
              "      <th>...</th>\n",
              "      <td>...</td>\n",
              "      <td>...</td>\n",
              "      <td>...</td>\n",
              "      <td>...</td>\n",
              "      <td>...</td>\n",
              "      <td>...</td>\n",
              "      <td>...</td>\n",
              "      <td>...</td>\n",
              "      <td>...</td>\n",
              "    </tr>\n",
              "    <tr>\n",
              "      <th>10859</th>\n",
              "      <td>-120.8</td>\n",
              "      <td>38.7</td>\n",
              "      <td>14.0</td>\n",
              "      <td>8396.0</td>\n",
              "      <td>1578.0</td>\n",
              "      <td>3952.0</td>\n",
              "      <td>1474.0</td>\n",
              "      <td>3.1</td>\n",
              "      <td>118.8</td>\n",
              "    </tr>\n",
              "    <tr>\n",
              "      <th>10971</th>\n",
              "      <td>-120.9</td>\n",
              "      <td>38.7</td>\n",
              "      <td>11.0</td>\n",
              "      <td>5460.0</td>\n",
              "      <td>859.0</td>\n",
              "      <td>2645.0</td>\n",
              "      <td>838.0</td>\n",
              "      <td>4.8</td>\n",
              "      <td>230.6</td>\n",
              "    </tr>\n",
              "    <tr>\n",
              "      <th>1122</th>\n",
              "      <td>-117.1</td>\n",
              "      <td>33.0</td>\n",
              "      <td>16.0</td>\n",
              "      <td>3050.0</td>\n",
              "      <td>559.0</td>\n",
              "      <td>1444.0</td>\n",
              "      <td>512.0</td>\n",
              "      <td>5.2</td>\n",
              "      <td>156.3</td>\n",
              "    </tr>\n",
              "    <tr>\n",
              "      <th>5722</th>\n",
              "      <td>-118.2</td>\n",
              "      <td>34.1</td>\n",
              "      <td>47.0</td>\n",
              "      <td>2324.0</td>\n",
              "      <td>658.0</td>\n",
              "      <td>3020.0</td>\n",
              "      <td>594.0</td>\n",
              "      <td>1.2</td>\n",
              "      <td>93.8</td>\n",
              "    </tr>\n",
              "    <tr>\n",
              "      <th>7197</th>\n",
              "      <td>-118.3</td>\n",
              "      <td>34.0</td>\n",
              "      <td>44.0</td>\n",
              "      <td>1574.0</td>\n",
              "      <td>390.0</td>\n",
              "      <td>1323.0</td>\n",
              "      <td>404.0</td>\n",
              "      <td>2.5</td>\n",
              "      <td>226.3</td>\n",
              "    </tr>\n",
              "  </tbody>\n",
              "</table>\n",
              "<p>17000 rows × 9 columns</p>\n",
              "</div>"
            ],
            "text/plain": [
              "       longitude  latitude  housing_median_age  total_rooms  total_bedrooms  \\\n",
              "13212     -121.9      37.3                52.0       1009.0           231.0   \n",
              "7347      -118.3      34.3                52.0        102.0            29.0   \n",
              "6067      -118.2      33.9                36.0        873.0           240.0   \n",
              "9315      -119.2      34.1                17.0        224.0            70.0   \n",
              "10036     -119.8      36.8                22.0       1529.0           375.0   \n",
              "...          ...       ...                 ...          ...             ...   \n",
              "10859     -120.8      38.7                14.0       8396.0          1578.0   \n",
              "10971     -120.9      38.7                11.0       5460.0           859.0   \n",
              "1122      -117.1      33.0                16.0       3050.0           559.0   \n",
              "5722      -118.2      34.1                47.0       2324.0           658.0   \n",
              "7197      -118.3      34.0                44.0       1574.0           390.0   \n",
              "\n",
              "       population  households  median_income  median_house_value  \n",
              "13212       929.0       210.0            2.5               162.5  \n",
              "7347         54.0        32.0            2.0               191.7  \n",
              "6067       1086.0       217.0            2.2               126.6  \n",
              "9315        147.0        71.0            3.6               280.0  \n",
              "10036      1543.0       395.0            1.8                51.7  \n",
              "...           ...         ...            ...                 ...  \n",
              "10859      3952.0      1474.0            3.1               118.8  \n",
              "10971      2645.0       838.0            4.8               230.6  \n",
              "1122       1444.0       512.0            5.2               156.3  \n",
              "5722       3020.0       594.0            1.2                93.8  \n",
              "7197       1323.0       404.0            2.5               226.3  \n",
              "\n",
              "[17000 rows x 9 columns]"
            ]
          },
          "metadata": {
            "tags": []
          },
          "execution_count": 5
        }
      ]
    },
    {
      "metadata": {
        "id": "HzzlSs3PtTmt",
        "colab_type": "text"
      },
      "cell_type": "markdown",
      "source": [
        " ## 检查数据\n",
        "\n",
        "建议您在使用数据之前，先对它有一个初步的了解。\n",
        "\n",
        "我们会输出关于各列的一些实用统计信息快速摘要：样本数、均值、标准偏差、最大值、最小值和各种分位数。"
      ]
    },
    {
      "metadata": {
        "id": "gzb10yoVrydW",
        "colab_type": "code",
        "colab": {
          "base_uri": "https://localhost:8080/",
          "height": 317
        },
        "outputId": "333a4042-74c8-441d-b180-358d2c0e3367"
      },
      "cell_type": "code",
      "source": [
        "california_housing_dataframe.describe()"
      ],
      "execution_count": 6,
      "outputs": [
        {
          "output_type": "execute_result",
          "data": {
            "text/html": [
              "<div>\n",
              "<style scoped>\n",
              "    .dataframe tbody tr th:only-of-type {\n",
              "        vertical-align: middle;\n",
              "    }\n",
              "\n",
              "    .dataframe tbody tr th {\n",
              "        vertical-align: top;\n",
              "    }\n",
              "\n",
              "    .dataframe thead th {\n",
              "        text-align: right;\n",
              "    }\n",
              "</style>\n",
              "<table border=\"1\" class=\"dataframe\">\n",
              "  <thead>\n",
              "    <tr style=\"text-align: right;\">\n",
              "      <th></th>\n",
              "      <th>longitude</th>\n",
              "      <th>latitude</th>\n",
              "      <th>housing_median_age</th>\n",
              "      <th>total_rooms</th>\n",
              "      <th>total_bedrooms</th>\n",
              "      <th>population</th>\n",
              "      <th>households</th>\n",
              "      <th>median_income</th>\n",
              "      <th>median_house_value</th>\n",
              "    </tr>\n",
              "  </thead>\n",
              "  <tbody>\n",
              "    <tr>\n",
              "      <th>count</th>\n",
              "      <td>17000.0</td>\n",
              "      <td>17000.0</td>\n",
              "      <td>17000.0</td>\n",
              "      <td>17000.0</td>\n",
              "      <td>17000.0</td>\n",
              "      <td>17000.0</td>\n",
              "      <td>17000.0</td>\n",
              "      <td>17000.0</td>\n",
              "      <td>17000.0</td>\n",
              "    </tr>\n",
              "    <tr>\n",
              "      <th>mean</th>\n",
              "      <td>-119.6</td>\n",
              "      <td>35.6</td>\n",
              "      <td>28.6</td>\n",
              "      <td>2643.7</td>\n",
              "      <td>539.4</td>\n",
              "      <td>1429.6</td>\n",
              "      <td>501.2</td>\n",
              "      <td>3.9</td>\n",
              "      <td>207.3</td>\n",
              "    </tr>\n",
              "    <tr>\n",
              "      <th>std</th>\n",
              "      <td>2.0</td>\n",
              "      <td>2.1</td>\n",
              "      <td>12.6</td>\n",
              "      <td>2179.9</td>\n",
              "      <td>421.5</td>\n",
              "      <td>1147.9</td>\n",
              "      <td>384.5</td>\n",
              "      <td>1.9</td>\n",
              "      <td>116.0</td>\n",
              "    </tr>\n",
              "    <tr>\n",
              "      <th>min</th>\n",
              "      <td>-124.3</td>\n",
              "      <td>32.5</td>\n",
              "      <td>1.0</td>\n",
              "      <td>2.0</td>\n",
              "      <td>1.0</td>\n",
              "      <td>3.0</td>\n",
              "      <td>1.0</td>\n",
              "      <td>0.5</td>\n",
              "      <td>15.0</td>\n",
              "    </tr>\n",
              "    <tr>\n",
              "      <th>25%</th>\n",
              "      <td>-121.8</td>\n",
              "      <td>33.9</td>\n",
              "      <td>18.0</td>\n",
              "      <td>1462.0</td>\n",
              "      <td>297.0</td>\n",
              "      <td>790.0</td>\n",
              "      <td>282.0</td>\n",
              "      <td>2.6</td>\n",
              "      <td>119.4</td>\n",
              "    </tr>\n",
              "    <tr>\n",
              "      <th>50%</th>\n",
              "      <td>-118.5</td>\n",
              "      <td>34.2</td>\n",
              "      <td>29.0</td>\n",
              "      <td>2127.0</td>\n",
              "      <td>434.0</td>\n",
              "      <td>1167.0</td>\n",
              "      <td>409.0</td>\n",
              "      <td>3.5</td>\n",
              "      <td>180.4</td>\n",
              "    </tr>\n",
              "    <tr>\n",
              "      <th>75%</th>\n",
              "      <td>-118.0</td>\n",
              "      <td>37.7</td>\n",
              "      <td>37.0</td>\n",
              "      <td>3151.2</td>\n",
              "      <td>648.2</td>\n",
              "      <td>1721.0</td>\n",
              "      <td>605.2</td>\n",
              "      <td>4.8</td>\n",
              "      <td>265.0</td>\n",
              "    </tr>\n",
              "    <tr>\n",
              "      <th>max</th>\n",
              "      <td>-114.3</td>\n",
              "      <td>42.0</td>\n",
              "      <td>52.0</td>\n",
              "      <td>37937.0</td>\n",
              "      <td>6445.0</td>\n",
              "      <td>35682.0</td>\n",
              "      <td>6082.0</td>\n",
              "      <td>15.0</td>\n",
              "      <td>500.0</td>\n",
              "    </tr>\n",
              "  </tbody>\n",
              "</table>\n",
              "</div>"
            ],
            "text/plain": [
              "       longitude  latitude  housing_median_age  total_rooms  total_bedrooms  \\\n",
              "count    17000.0   17000.0             17000.0      17000.0         17000.0   \n",
              "mean      -119.6      35.6                28.6       2643.7           539.4   \n",
              "std          2.0       2.1                12.6       2179.9           421.5   \n",
              "min       -124.3      32.5                 1.0          2.0             1.0   \n",
              "25%       -121.8      33.9                18.0       1462.0           297.0   \n",
              "50%       -118.5      34.2                29.0       2127.0           434.0   \n",
              "75%       -118.0      37.7                37.0       3151.2           648.2   \n",
              "max       -114.3      42.0                52.0      37937.0          6445.0   \n",
              "\n",
              "       population  households  median_income  median_house_value  \n",
              "count     17000.0     17000.0        17000.0             17000.0  \n",
              "mean       1429.6       501.2            3.9               207.3  \n",
              "std        1147.9       384.5            1.9               116.0  \n",
              "min           3.0         1.0            0.5                15.0  \n",
              "25%         790.0       282.0            2.6               119.4  \n",
              "50%        1167.0       409.0            3.5               180.4  \n",
              "75%        1721.0       605.2            4.8               265.0  \n",
              "max       35682.0      6082.0           15.0               500.0  "
            ]
          },
          "metadata": {
            "tags": []
          },
          "execution_count": 6
        }
      ]
    },
    {
      "metadata": {
        "id": "Lr6wYl2bt2Ep",
        "colab_type": "text"
      },
      "cell_type": "markdown",
      "source": [
        " ## 构建第一个模型\n",
        "\n",
        "在本练习中，我们将尝试预测 `median_house_value`，它将是我们的标签（有时也称为目标）。我们将使用 `total_rooms` 作为输入特征。\n",
        "\n",
        "**注意**：我们使用的是城市街区级别的数据，因此该特征表示相应街区的房间总数。\n",
        "\n",
        "为了训练模型，我们将使用 TensorFlow [Estimator](https://www.tensorflow.org/get_started/estimator) API 提供的 [LinearRegressor](https://www.tensorflow.org/api_docs/python/tf/estimator/LinearRegressor) 接口。此 API 负责处理大量低级别模型搭建工作，并会提供执行模型训练、评估和推理的便利方法。"
      ]
    },
    {
      "metadata": {
        "id": "0cpcsieFhsNI",
        "colab_type": "text"
      },
      "cell_type": "markdown",
      "source": [
        " ### 第 1 步：定义特征并配置特征列"
      ]
    },
    {
      "metadata": {
        "id": "EL8-9d4ZJNR7",
        "colab_type": "text"
      },
      "cell_type": "markdown",
      "source": [
        " 为了将我们的训练数据导入 TensorFlow，我们需要指定每个特征包含的数据类型。在本练习及今后的练习中，我们主要会使用以下两类数据：\n",
        "\n",
        "* **分类数据**：一种文字数据。在本练习中，我们的住房数据集不包含任何分类特征，但您可能会看到的示例包括家居风格以及房地产广告词。\n",
        "\n",
        "* **数值数据**：一种数字（整数或浮点数）数据以及您希望视为数字的数据。有时您可能会希望将数值数据（例如邮政编码）视为分类数据（我们将在稍后的部分对此进行详细说明）。\n",
        "\n",
        "在 TensorFlow 中，我们使用一种称为“**特征列**”的结构来表示特征的数据类型。特征列仅存储对特征数据的描述；不包含特征数据本身。\n",
        "\n",
        "一开始，我们只使用一个数值输入特征 `total_rooms`。以下代码会从 `california_housing_dataframe` 中提取 `total_rooms` 数据，并使用 `numeric_column` 定义特征列，这样会将其数据指定为数值："
      ]
    },
    {
      "metadata": {
        "id": "rhEbFCZ86cDZ",
        "colab_type": "code",
        "colab": {
          "base_uri": "https://localhost:8080/",
          "height": 17
        },
        "outputId": "64a24bc3-a173-4719-d5e5-2570412f8323"
      },
      "cell_type": "code",
      "source": [
        "# Define the input feature: total_rooms.\n",
        "my_feature = california_housing_dataframe[[\"total_rooms\"]]\n",
        "\n",
        "# Configure a numeric feature column for total_rooms.\n",
        "feature_columns = [tf.feature_column.numeric_column(\"total_rooms\")]"
      ],
      "execution_count": 7,
      "outputs": []
    },
    {
      "metadata": {
        "id": "K_3S8teX7Rd2",
        "colab_type": "text"
      },
      "cell_type": "markdown",
      "source": [
        " **注意**：`total_rooms` 数据的形状是一维数组（每个街区的房间总数列表）。这是 `numeric_column` 的默认形状，因此我们不必将其作为参数传递。"
      ]
    },
    {
      "metadata": {
        "id": "UMl3qrU5MGV6",
        "colab_type": "text"
      },
      "cell_type": "markdown",
      "source": [
        " ### 第 2 步：定义目标"
      ]
    },
    {
      "metadata": {
        "id": "cw4nrfcB7kyk",
        "colab_type": "text"
      },
      "cell_type": "markdown",
      "source": [
        " 接下来，我们将定义目标，也就是 `median_house_value`。同样，我们可以从 `california_housing_dataframe` 中提取它："
      ]
    },
    {
      "metadata": {
        "id": "l1NvvNkH8Kbt",
        "colab_type": "code",
        "colab": {
          "base_uri": "https://localhost:8080/",
          "height": 17
        },
        "outputId": "1e6bc375-0081-48d0-c364-d763c3dcac70"
      },
      "cell_type": "code",
      "source": [
        "# Define the label.\n",
        "targets = california_housing_dataframe[\"median_house_value\"]"
      ],
      "execution_count": 8,
      "outputs": []
    },
    {
      "metadata": {
        "id": "4M-rTFHL2UkA",
        "colab_type": "text"
      },
      "cell_type": "markdown",
      "source": [
        " ### 第 3 步：配置 LinearRegressor"
      ]
    },
    {
      "metadata": {
        "id": "fUfGQUNp7jdL",
        "colab_type": "text"
      },
      "cell_type": "markdown",
      "source": [
        " 接下来，我们将使用 LinearRegressor 配置线性回归模型，并使用 `GradientDescentOptimizer`（它会实现小批量随机梯度下降法 (SGD)）训练该模型。`learning_rate` 参数可控制梯度步长的大小。\n",
        "\n",
        "**注意**：为了安全起见，我们还会通过 `clip_gradients_by_norm` 将[梯度裁剪](https://developers.google.com/machine-learning/glossary/#gradient_clipping)应用到我们的优化器。梯度裁剪可确保梯度大小在训练期间不会变得过大，梯度过大会导致梯度下降法失败。"
      ]
    },
    {
      "metadata": {
        "id": "ubhtW-NGU802",
        "colab_type": "code",
        "colab": {
          "base_uri": "https://localhost:8080/",
          "height": 17
        },
        "outputId": "f7006f14-96bb-4cf3-a9b4-c6a5fee7fab2"
      },
      "cell_type": "code",
      "source": [
        "# Use gradient descent as the optimizer for training the model.\n",
        "my_optimizer=tf.train.GradientDescentOptimizer(learning_rate=0.0000001)\n",
        "my_optimizer = tf.contrib.estimator.clip_gradients_by_norm(my_optimizer, 5.0)\n",
        "\n",
        "# Configure the linear regression model with our feature columns and optimizer.\n",
        "# Set a learning rate of 0.0000001 for Gradient Descent.\n",
        "linear_regressor = tf.estimator.LinearRegressor(\n",
        "    feature_columns=feature_columns,\n",
        "    optimizer=my_optimizer\n",
        ")"
      ],
      "execution_count": 9,
      "outputs": []
    },
    {
      "metadata": {
        "id": "-0IztwdK2f3F",
        "colab_type": "text"
      },
      "cell_type": "markdown",
      "source": [
        " ### 第 4 步：定义输入函数"
      ]
    },
    {
      "metadata": {
        "id": "S5M5j6xSCHxx",
        "colab_type": "text"
      },
      "cell_type": "markdown",
      "source": [
        " 要将加利福尼亚州住房数据导入 `LinearRegressor`，我们需要定义一个输入函数，让它告诉 TensorFlow 如何对数据进行预处理，以及在模型训练期间如何批处理、随机处理和重复数据。\n",
        "\n",
        "首先，我们将 *Pandas* 特征数据转换成 NumPy 数组字典。然后，我们可以使用 TensorFlow [Dataset API](https://www.tensorflow.org/programmers_guide/datasets) 根据我们的数据构建 Dataset 对象，并将数据拆分成大小为 `batch_size` 的多批数据，以按照指定周期数 (num_epochs) 进行重复。\n",
        "\n",
        "**注意**：如果将默认值 `num_epochs=None` 传递到 `repeat()`，输入数据会无限期重复。\n",
        "\n",
        "然后，如果 `shuffle` 设置为 `True`，则我们会对数据进行随机处理，以便数据在训练期间以随机方式传递到模型。`buffer_size` 参数会指定 `shuffle` 将从中随机抽样的数据集的大小。\n",
        "\n",
        "最后，输入函数会为该数据集构建一个迭代器，并向 LinearRegressor 返回下一批数据。"
      ]
    },
    {
      "metadata": {
        "id": "RKZ9zNcHJtwc",
        "colab_type": "code",
        "colab": {
          "base_uri": "https://localhost:8080/",
          "height": 341
        },
        "outputId": "5777f200-e217-4812-c010-b64054fc45df"
      },
      "cell_type": "code",
      "source": [
        "def my_input_fn(features, targets, batch_size=1, shuffle=True, num_epochs=None):\n",
        "    \"\"\"Trains a linear regression model of one feature.\n",
        "  \n",
        "    Args:\n",
        "      features: pandas DataFrame of features\n",
        "      targets: pandas DataFrame of targets\n",
        "      batch_size: Size of batches to be passed to the model\n",
        "      shuffle: True or False. Whether to shuffle the data.\n",
        "      num_epochs: Number of epochs for which data should be repeated. None = repeat indefinitely\n",
        "    Returns:\n",
        "      Tuple of (features, labels) for next data batch\n",
        "    \"\"\"\n",
        "  \n",
        "    # Convert pandas data into a dict of np arrays.\n",
        "    print ('features.items',features.items())\n",
        "    print ('dict(features.items())',dict(features.items()))\n",
        "    features = {key:np.array(value) for key,value in dict(features).items()}  \n",
        "    \n",
        "    print(features)\n",
        "    # Construct a dataset, and configure batching/repeating\n",
        "    ds = Dataset.from_tensor_slices((features,targets)) # warning: 2GB limit\n",
        "    ds = ds.batch(batch_size).repeat(num_epochs)\n",
        "    print('ds:',ds)\n",
        "    # Shuffle the data, if specified\n",
        "    if shuffle:\n",
        "      ds = ds.shuffle(buffer_size=10000)\n",
        "    \n",
        "    # Return the next batch of data\n",
        "    features, labels = ds.make_one_shot_iterator().get_next()\n",
        "    print('features:',features)\n",
        "    print('labels:',labels)\n",
        "    return features, labels\n",
        "my_input_fn(my_feature, targets)"
      ],
      "execution_count": 12,
      "outputs": [
        {
          "output_type": "stream",
          "text": [
            "('features.items', <generator object iteritems at 0x7f2421e067d0>)\n",
            "('dict(features.items())', {'total_rooms': 13212   1009.0\n",
            "7347     102.0\n",
            "6067     873.0\n",
            "9315     224.0\n",
            "10036   1529.0\n",
            "         ...  \n",
            "10859   8396.0\n",
            "10971   5460.0\n",
            "1122    3050.0\n",
            "5722    2324.0\n",
            "7197    1574.0\n",
            "Name: total_rooms, Length: 17000, dtype: float64})\n",
            "{'total_rooms': array([1009.,  102.,  873., ..., 3050., 2324., 1574.])}\n",
            "('ds:', <RepeatDataset shapes: ({total_rooms: (?,)}, (?,)), types: ({total_rooms: tf.float64}, tf.float64)>)\n",
            "('features:', {'total_rooms': <tf.Tensor 'IteratorGetNext_1:0' shape=(?,) dtype=float64>})\n",
            "('labels:', <tf.Tensor 'IteratorGetNext_1:1' shape=(?,) dtype=float64>)\n"
          ],
          "name": "stdout"
        },
        {
          "output_type": "execute_result",
          "data": {
            "text/plain": [
              "({'total_rooms': <tf.Tensor 'IteratorGetNext_1:0' shape=(?,) dtype=float64>},\n",
              " <tf.Tensor 'IteratorGetNext_1:1' shape=(?,) dtype=float64>)"
            ]
          },
          "metadata": {
            "tags": []
          },
          "execution_count": 12
        }
      ]
    },
    {
      "metadata": {
        "id": "wwa6UeA1V5F_",
        "colab_type": "text"
      },
      "cell_type": "markdown",
      "source": [
        " **注意**：在后面的练习中，我们会继续使用此输入函数。有关输入函数和 `Dataset` API 的更详细的文档，请参阅 [TensorFlow 编程人员指南](https://www.tensorflow.org/programmers_guide/datasets)。"
      ]
    },
    {
      "metadata": {
        "id": "4YS50CQb2ooO",
        "colab_type": "text"
      },
      "cell_type": "markdown",
      "source": [
        " ### 第 5 步：训练模型"
      ]
    },
    {
      "metadata": {
        "id": "yP92XkzhU803",
        "colab_type": "text"
      },
      "cell_type": "markdown",
      "source": [
        " 现在，我们可以在 `linear_regressor` 上调用 `train()` 来训练模型。我们会将 `my_input_fn` 封装在 `lambda` 中，以便可以将 `my_feature` 和 `target` 作为参数传入（有关详情，请参阅此 [TensorFlow 输入函数教程](https://www.tensorflow.org/get_started/input_fn#passing_input_fn_data_to_your_model)），首先，我们会训练 100 步。"
      ]
    },
    {
      "metadata": {
        "id": "5M-Kt6w8U803",
        "colab_type": "code",
        "colab": {
          "base_uri": "https://localhost:8080/",
          "height": 324
        },
        "outputId": "2243e2e0-f4b0-4499-f621-cb8502a3ef85"
      },
      "cell_type": "code",
      "source": [
        "linear_regressor.train(\n",
        "    input_fn = lambda:my_input_fn(my_feature, targets),steps=100\n",
        ")"
      ],
      "execution_count": 13,
      "outputs": [
        {
          "output_type": "stream",
          "text": [
            "('features.items', <generator object iteritems at 0x7f2421e06640>)\n",
            "('dict(features.items())', {'total_rooms': 13212   1009.0\n",
            "7347     102.0\n",
            "6067     873.0\n",
            "9315     224.0\n",
            "10036   1529.0\n",
            "         ...  \n",
            "10859   8396.0\n",
            "10971   5460.0\n",
            "1122    3050.0\n",
            "5722    2324.0\n",
            "7197    1574.0\n",
            "Name: total_rooms, Length: 17000, dtype: float64})\n",
            "{'total_rooms': array([1009.,  102.,  873., ..., 3050., 2324., 1574.])}\n",
            "('ds:', <RepeatDataset shapes: ({total_rooms: (?,)}, (?,)), types: ({total_rooms: tf.float64}, tf.float64)>)\n",
            "('features:', {'total_rooms': <tf.Tensor 'IteratorGetNext:0' shape=(?,) dtype=float64>})\n",
            "('labels:', <tf.Tensor 'IteratorGetNext:1' shape=(?,) dtype=float64>)\n"
          ],
          "name": "stdout"
        },
        {
          "output_type": "execute_result",
          "data": {
            "text/plain": [
              "<tensorflow.python.estimator.canned.linear.LinearRegressor at 0x7f24239d9090>"
            ]
          },
          "metadata": {
            "tags": []
          },
          "execution_count": 13
        }
      ]
    },
    {
      "metadata": {
        "id": "7Nwxqxlx2sOv",
        "colab_type": "text"
      },
      "cell_type": "markdown",
      "source": [
        " ### 第 6 步：评估模型"
      ]
    },
    {
      "metadata": {
        "id": "KoDaF2dlJQG5",
        "colab_type": "text"
      },
      "cell_type": "markdown",
      "source": [
        " 我们基于该训练数据做一次预测，看看我们的模型在训练期间与这些数据的拟合情况。\n",
        "\n",
        "**注意**：训练误差可以衡量您的模型与训练数据的拟合情况，但并**_不能_**衡量模型**_泛化到新数据_**的效果。在后面的练习中，您将探索如何拆分数据以评估模型的泛化能力。\n"
      ]
    },
    {
      "metadata": {
        "id": "pDIxp6vcU809",
        "colab_type": "code",
        "colab": {
          "base_uri": "https://localhost:8080/",
          "height": 358
        },
        "outputId": "9da6cfdf-4770-47df-eef7-88d7b89f6a40"
      },
      "cell_type": "code",
      "source": [
        "# Create an input function for predictions.\n",
        "# Note: Since we're making just one prediction for each example, we don't \n",
        "# need to repeat or shuffle the data here.\n",
        "prediction_input_fn =lambda: my_input_fn(my_feature, targets, num_epochs=1, shuffle=False)\n",
        "\n",
        "# Call predict() on the linear_regressor to make predictions.\n",
        "predictions = linear_regressor.predict(input_fn=prediction_input_fn)\n",
        "\n",
        "# Format predictions as a NumPy array, so we can calculate error metrics.\n",
        "predictions = np.array([item['predictions'][0] for item in predictions])\n",
        "print(predictions)\n",
        "# Print Mean Squared Error and Root Mean Squared Error.\n",
        "mean_squared_error = metrics.mean_squared_error(predictions, targets)\n",
        "root_mean_squared_error = math.sqrt(mean_squared_error)\n",
        "print \"Mean Squared Error (on training data): %0.3f\" % mean_squared_error\n",
        "print \"Root Mean Squared Error (on training data): %0.3f\" % root_mean_squared_error"
      ],
      "execution_count": 17,
      "outputs": [
        {
          "output_type": "stream",
          "text": [
            "('features.items', <generator object iteritems at 0x7f2421dbe8c0>)\n",
            "('dict(features.items())', {'total_rooms': 13212   1009.0\n",
            "7347     102.0\n",
            "6067     873.0\n",
            "9315     224.0\n",
            "10036   1529.0\n",
            "         ...  \n",
            "10859   8396.0\n",
            "10971   5460.0\n",
            "1122    3050.0\n",
            "5722    2324.0\n",
            "7197    1574.0\n",
            "Name: total_rooms, Length: 17000, dtype: float64})\n",
            "{'total_rooms': array([1009.,  102.,  873., ..., 3050., 2324., 1574.])}\n",
            "('ds:', <RepeatDataset shapes: ({total_rooms: (?,)}, (?,)), types: ({total_rooms: tf.float64}, tf.float64)>)\n",
            "('features:', {'total_rooms': <tf.Tensor 'IteratorGetNext:0' shape=(?,) dtype=float64>})\n",
            "('labels:', <tf.Tensor 'IteratorGetNext:1' shape=(?,) dtype=float64>)\n",
            "[0.05045002 0.00510003 0.04365002 ... 0.15249999 0.11620001 0.07870002]\n",
            "Mean Squared Error (on training data): 56367.025\n",
            "Root Mean Squared Error (on training data): 237.417\n"
          ],
          "name": "stdout"
        }
      ]
    },
    {
      "metadata": {
        "id": "AKWstXXPzOVz",
        "colab_type": "text"
      },
      "cell_type": "markdown",
      "source": [
        " 这是出色的模型吗？您如何判断误差有多大？\n",
        "\n",
        "由于均方误差 (MSE) 很难解读，因此我们经常查看的是均方根误差 (RMSE)。RMSE 的一个很好的特性是，它可以在与原目标相同的规模下解读。\n",
        "\n",
        "我们来比较一下 RMSE 与目标最大值和最小值的差值："
      ]
    },
    {
      "metadata": {
        "id": "7UwqGbbxP53O",
        "colab_type": "code",
        "colab": {
          "base_uri": "https://localhost:8080/",
          "height": 86
        },
        "outputId": "f739d8bd-9b7a-4fbf-9b0c-1b8af3cea9e9"
      },
      "cell_type": "code",
      "source": [
        "min_house_value = california_housing_dataframe[\"median_house_value\"].min()\n",
        "max_house_value = california_housing_dataframe[\"median_house_value\"].max()\n",
        "min_max_difference = max_house_value - min_house_value\n",
        "\n",
        "print \"Min. Median House Value: %0.3f\" % min_house_value\n",
        "print \"Max. Median House Value: %0.3f\" % max_house_value\n",
        "print \"Difference between Min. and Max.: %0.3f\" % min_max_difference\n",
        "print \"Root Mean Squared Error: %0.3f\" % root_mean_squared_error"
      ],
      "execution_count": 15,
      "outputs": [
        {
          "output_type": "stream",
          "text": [
            "Min. Median House Value: 14.999\n",
            "Max. Median House Value: 500.001\n",
            "Difference between Min. and Max.: 485.002\n",
            "Root Mean Squared Error: 237.417\n"
          ],
          "name": "stdout"
        }
      ]
    },
    {
      "metadata": {
        "id": "JigJr0C7Pzit",
        "colab_type": "text"
      },
      "cell_type": "markdown",
      "source": [
        " 我们的误差跨越目标值的近一半范围，可以进一步缩小误差吗？\n",
        "\n",
        "这是每个模型开发者都会烦恼的问题。我们来制定一些基本策略，以降低模型误差。\n",
        "\n",
        "首先，我们可以了解一下根据总体摘要统计信息，预测和目标的符合情况。"
      ]
    },
    {
      "metadata": {
        "id": "941nclxbzqGH",
        "colab_type": "code",
        "colab": {
          "base_uri": "https://localhost:8080/",
          "height": 297
        },
        "outputId": "d26c56b0-4950-4d5e-efc6-7d85b60fe50b"
      },
      "cell_type": "code",
      "source": [
        "calibration_data = pd.DataFrame()\n",
        "calibration_data[\"predictions\"] = pd.Series(predictions)\n",
        "calibration_data[\"targets\"] = pd.Series(targets)\n",
        "calibration_data.describe()"
      ],
      "execution_count": 18,
      "outputs": [
        {
          "output_type": "execute_result",
          "data": {
            "text/html": [
              "<div>\n",
              "<style scoped>\n",
              "    .dataframe tbody tr th:only-of-type {\n",
              "        vertical-align: middle;\n",
              "    }\n",
              "\n",
              "    .dataframe tbody tr th {\n",
              "        vertical-align: top;\n",
              "    }\n",
              "\n",
              "    .dataframe thead th {\n",
              "        text-align: right;\n",
              "    }\n",
              "</style>\n",
              "<table border=\"1\" class=\"dataframe\">\n",
              "  <thead>\n",
              "    <tr style=\"text-align: right;\">\n",
              "      <th></th>\n",
              "      <th>predictions</th>\n",
              "      <th>targets</th>\n",
              "    </tr>\n",
              "  </thead>\n",
              "  <tbody>\n",
              "    <tr>\n",
              "      <th>count</th>\n",
              "      <td>17000.0</td>\n",
              "      <td>17000.0</td>\n",
              "    </tr>\n",
              "    <tr>\n",
              "      <th>mean</th>\n",
              "      <td>0.1</td>\n",
              "      <td>207.3</td>\n",
              "    </tr>\n",
              "    <tr>\n",
              "      <th>std</th>\n",
              "      <td>0.1</td>\n",
              "      <td>116.0</td>\n",
              "    </tr>\n",
              "    <tr>\n",
              "      <th>min</th>\n",
              "      <td>0.0</td>\n",
              "      <td>15.0</td>\n",
              "    </tr>\n",
              "    <tr>\n",
              "      <th>25%</th>\n",
              "      <td>0.1</td>\n",
              "      <td>119.4</td>\n",
              "    </tr>\n",
              "    <tr>\n",
              "      <th>50%</th>\n",
              "      <td>0.1</td>\n",
              "      <td>180.4</td>\n",
              "    </tr>\n",
              "    <tr>\n",
              "      <th>75%</th>\n",
              "      <td>0.2</td>\n",
              "      <td>265.0</td>\n",
              "    </tr>\n",
              "    <tr>\n",
              "      <th>max</th>\n",
              "      <td>1.9</td>\n",
              "      <td>500.0</td>\n",
              "    </tr>\n",
              "  </tbody>\n",
              "</table>\n",
              "</div>"
            ],
            "text/plain": [
              "       predictions  targets\n",
              "count      17000.0  17000.0\n",
              "mean           0.1    207.3\n",
              "std            0.1    116.0\n",
              "min            0.0     15.0\n",
              "25%            0.1    119.4\n",
              "50%            0.1    180.4\n",
              "75%            0.2    265.0\n",
              "max            1.9    500.0"
            ]
          },
          "metadata": {
            "tags": []
          },
          "execution_count": 18
        }
      ]
    },
    {
      "metadata": {
        "id": "E2-bf8Hq36y8",
        "colab_type": "text"
      },
      "cell_type": "markdown",
      "source": [
        " 好的，此信息也许有帮助。平均值与模型的 RMSE 相比情况如何？各种分位数呢？\n",
        "\n",
        "我们还可以将数据和学到的线可视化。我们已经知道，单个特征的线性回归可绘制成一条将输入 *x* 映射到输出 *y* 的线。\n",
        "\n",
        "首先，我们将获得均匀分布的随机数据样本，以便绘制可辨的散点图。"
      ]
    },
    {
      "metadata": {
        "id": "SGRIi3mAU81H",
        "colab_type": "code",
        "colab": {
          "base_uri": "https://localhost:8080/",
          "height": 17
        },
        "outputId": "9e4663f2-b60e-42c6-e29f-1bd259b3a1e6"
      },
      "cell_type": "code",
      "source": [
        "sample = california_housing_dataframe.sample(n=300)"
      ],
      "execution_count": 19,
      "outputs": []
    },
    {
      "metadata": {
        "id": "N-JwuJBKU81J",
        "colab_type": "text"
      },
      "cell_type": "markdown",
      "source": [
        " 然后，我们根据模型的偏差项和特征权重绘制学到的线，并绘制散点图。该线会以红色显示。"
      ]
    },
    {
      "metadata": {
        "id": "7G12E76-339G",
        "colab_type": "code",
        "colab": {
          "base_uri": "https://localhost:8080/",
          "height": 396
        },
        "outputId": "614abf5f-3010-453b-9168-ad6d8229f1c3"
      },
      "cell_type": "code",
      "source": [
        "# Get the min and max total_rooms values.\n",
        "x_0 = sample[\"total_rooms\"].min()\n",
        "x_1 = sample[\"total_rooms\"].max()\n",
        "\n",
        "# Retrieve the final weight and bias generated during training.\n",
        "weight = linear_regressor.get_variable_value('linear/linear_model/total_rooms/weights')[0]\n",
        "\n",
        "bias = linear_regressor.get_variable_value('linear/linear_model/bias_weights')\n",
        "print(weight)\n",
        "print(bias)\n",
        "# Get the predicted median_house_values for the min and max total_rooms values.\n",
        "y_0 = weight * x_0 + bias \n",
        "y_1 = weight * x_1 + bias\n",
        "\n",
        "# Plot our regression line from (x_0, y_0) to (x_1, y_1).\n",
        "plt.plot([x_0, x_1], [y_0, y_1], c='r')\n",
        "\n",
        "# Label the graph axes.\n",
        "plt.ylabel(\"median_house_value\")\n",
        "plt.xlabel(\"total_rooms\")\n",
        "\n",
        "# Plot a scatter plot from our data sample.\n",
        "plt.scatter(sample[\"total_rooms\"], sample[\"median_house_value\"])\n",
        "\n",
        "# Display graph.\n",
        "plt.show()"
      ],
      "execution_count": 21,
      "outputs": [
        {
          "output_type": "stream",
          "text": [
            "[4.9999988e-05]\n",
            "[3.433736e-08]\n"
          ],
          "name": "stdout"
        },
        {
          "output_type": "display_data",
          "data": {
            "image/png": "[encoded data removed]",
            "text/plain": [
              "<matplotlib.figure.Figure at 0x7f241f75dc90>"
            ]
          },
          "metadata": {
            "tags": []
          }
        }
      ]
    },
    {
      "metadata": {
        "id": "t0lRt4USU81L",
        "colab_type": "text"
      },
      "cell_type": "markdown",
      "source": [
        " 这条初始线看起来与目标相差很大。看看您能否回想起摘要统计信息，并看到其中蕴含的相同信息。\n",
        "\n",
        "综上所述，这些初始健全性检查提示我们也许可以找到更好的线。"
      ]
    },
    {
      "metadata": {
        "id": "AZWF67uv0HTG",
        "colab_type": "text"
      },
      "cell_type": "markdown",
      "source": [
        " ## 调整模型超参数\n",
        "对于本练习，为方便起见，我们已将上述所有代码放入一个函数中。您可以使用不同的参数调用该函数，以了解相应效果。\n",
        "\n",
        "我们会在 10 个等分的时间段内使用此函数，以便观察模型在每个时间段的改善情况。\n",
        "\n",
        "对于每个时间段，我们都会计算训练损失并绘制相应图表。这可以帮助您判断模型收敛的时间，或者模型是否需要更多迭代。\n",
        "\n",
        "此外，我们还会绘制模型随着时间的推移学习的特征权重和偏差项值的曲线图。您还可以通过这种方式查看模型的收敛效果。"
      ]
    },
    {
      "metadata": {
        "id": "wgSMeD5UU81N",
        "colab_type": "code",
        "colab": {
          "base_uri": "https://localhost:8080/",
          "height": 17
        },
        "outputId": "199113f2-8224-4416-e968-32919dbb5d24"
      },
      "cell_type": "code",
      "source": [
        "def train_model(learning_rate, steps, batch_size, input_feature=\"total_rooms\"):\n",
        "  \"\"\"Trains a linear regression model of one feature.\n",
        "  \n",
        "  Args:\n",
        "    learning_rate: A `float`, the learning rate.\n",
        "    steps: A non-zero `int`, the total number of training steps. A training step\n",
        "      consists of a forward and backward pass using a single batch.\n",
        "    batch_size: A non-zero `int`, the batch size.\n",
        "    input_feature: A `string` specifying a column from `california_housing_dataframe`\n",
        "      to use as input feature.\n",
        "  \"\"\"\n",
        "  #steps：是指训练迭代的总次数。一步计算一批样本产生的损失，然后使用该值修改模型的权重一次。\n",
        "  periods = 10\n",
        "  steps_per_period = steps / periods\n",
        "\n",
        "  my_feature = input_feature\n",
        "  my_feature_data = california_housing_dataframe[[my_feature]]\n",
        "  my_label = \"median_house_value\"\n",
        "  targets = california_housing_dataframe[my_label]\n",
        "\n",
        "  # Create feature columns\n",
        "  feature_columns = [tf.feature_column.numeric_column(my_feature)]\n",
        "  \n",
        "  # Create input functions\n",
        "  training_input_fn = lambda:my_input_fn(my_feature_data, targets, batch_size=batch_size)\n",
        "  prediction_input_fn = lambda: my_input_fn(my_feature_data, targets, num_epochs=1, shuffle=False)\n",
        "  \n",
        "  # Create a linear regressor object.\n",
        "  my_optimizer = tf.train.GradientDescentOptimizer(learning_rate=learning_rate)\n",
        "  my_optimizer = tf.contrib.estimator.clip_gradients_by_norm(my_optimizer, 5.0)\n",
        "  linear_regressor = tf.estimator.LinearRegressor(\n",
        "      feature_columns=feature_columns,\n",
        "      optimizer=my_optimizer\n",
        "  )\n",
        "\n",
        "  # Set up to plot the state of our model's line each period.\n",
        "  plt.figure(figsize=(15, 6))\n",
        "  plt.subplot(1, 2, 1)\n",
        "  plt.title(\"Learned Line by Period\")\n",
        "  plt.ylabel(my_label)\n",
        "  plt.xlabel(my_feature)\n",
        "  sample = california_housing_dataframe.sample(n=300)\n",
        "  plt.scatter(sample[my_feature], sample[my_label])\n",
        "  colors = [cm.coolwarm(x) for x in np.linspace(-1, 1, periods)]\n",
        "\n",
        "  # Train the model, but do so inside a loop so that we can periodically assess\n",
        "  # loss metrics.\n",
        "  print \"Training model...\"\n",
        "  print \"RMSE (on training data):\"\n",
        "  root_mean_squared_errors = []\n",
        "  for period in range (0, periods):\n",
        "    # Train the model, starting from the prior state.\n",
        "    linear_regressor.train(\n",
        "        input_fn=training_input_fn,\n",
        "        steps=steps_per_period\n",
        "    )\n",
        "    # Take a break and compute predictions.\n",
        "    predictions = linear_regressor.predict(input_fn=prediction_input_fn)\n",
        "    predictions = np.array([item['predictions'][0] for item in predictions])\n",
        "    \n",
        "    # Compute loss.\n",
        "    root_mean_squared_error = math.sqrt(\n",
        "        metrics.mean_squared_error(predictions, targets))\n",
        "    # Occasionally print the current loss.\n",
        "    print \"  period %02d : %0.2f\" % (period, root_mean_squared_error)\n",
        "    # Add the loss metrics from this period to our list.\n",
        "    root_mean_squared_errors.append(root_mean_squared_error)\n",
        "    # Finally, track the weights and biases over time.\n",
        "    # Apply some math to ensure that the data and line are plotted neatly.\n",
        "    y_extents = np.array([0, sample[my_label].max()])\n",
        "    \n",
        "    weight = linear_regressor.get_variable_value('linear/linear_model/%s/weights' % input_feature)[0]\n",
        "    bias = linear_regressor.get_variable_value('linear/linear_model/bias_weights')\n",
        "\n",
        "    x_extents = (y_extents - bias) / weight\n",
        "    x_extents = np.maximum(np.minimum(x_extents,\n",
        "                                      sample[my_feature].max()),\n",
        "                           sample[my_feature].min())\n",
        "    y_extents = weight * x_extents + bias\n",
        "    plt.plot(x_extents, y_extents, color=colors[period]) \n",
        "  print \"Model training finished.\"\n",
        "\n",
        "  # Output a graph of loss metrics over periods.\n",
        "  plt.subplot(1, 2, 2)\n",
        "  plt.ylabel('RMSE')\n",
        "  plt.xlabel('Periods')\n",
        "  plt.title(\"Root Mean Squared Error vs. Periods\")\n",
        "  plt.tight_layout()\n",
        "  plt.plot(root_mean_squared_errors)\n",
        "\n",
        "  # Output a table with calibration data.\n",
        "  calibration_data = pd.DataFrame()\n",
        "  calibration_data[\"predictions\"] = pd.Series(predictions)\n",
        "  calibration_data[\"targets\"] = pd.Series(targets)\n",
        "  display.display(calibration_data.describe())\n",
        "\n",
        "  print \"Final RMSE (on training data): %0.2f\" % root_mean_squared_error"
      ],
      "execution_count": 22,
      "outputs": []
    },
    {
      "metadata": {
        "id": "kg8A4ArBU81Q",
        "colab_type": "text"
      },
      "cell_type": "markdown",
      "source": [
        " ## 任务 1：使 RMSE 不超过 180\n",
        "\n",
        "调整模型超参数，以降低损失和更符合目标分布。\n",
        "约 5 分钟后，如果您无法让 RMSE 低于 180，请查看解决方案，了解可能的组合。"
      ]
    },
    {
      "metadata": {
        "id": "UzoZUSdLIolF",
        "colab_type": "code",
        "colab": {
          "base_uri": "https://localhost:8080/",
          "height": 6756
        },
        "outputId": "81d5a328-c154-43a4-f2fb-f624a6e951a9"
      },
      "cell_type": "code",
      "source": [
        "train_model(\n",
        "    learning_rate=0.00002,\n",
        "    steps=500,\n",
        "    batch_size=4\n",
        ")"
      ],
      "execution_count": 24,
      "outputs": [
        {
          "output_type": "stream",
          "text": [
            "Training model...\n",
            "RMSE (on training data):\n",
            "('features.items', <generator object iteritems at 0x7f241f62a320>)\n",
            "('dict(features.items())', {'total_rooms': 13212   1009.0\n",
            "7347     102.0\n",
            "6067     873.0\n",
            "9315     224.0\n",
            "10036   1529.0\n",
            "         ...  \n",
            "10859   8396.0\n",
            "10971   5460.0\n",
            "1122    3050.0\n",
            "5722    2324.0\n",
            "7197    1574.0\n",
            "Name: total_rooms, Length: 17000, dtype: float64})\n",
            "{'total_rooms': array([1009.,  102.,  873., ..., 3050., 2324., 1574.])}\n",
            "('ds:', <RepeatDataset shapes: ({total_rooms: (?,)}, (?,)), types: ({total_rooms: tf.float64}, tf.float64)>)\n",
            "('features:', {'total_rooms': <tf.Tensor 'IteratorGetNext:0' shape=(?,) dtype=float64>})\n",
            "('labels:', <tf.Tensor 'IteratorGetNext:1' shape=(?,) dtype=float64>)\n",
            "('features.items', <generator object iteritems at 0x7f241f62abe0>)\n",
            "('dict(features.items())', {'total_rooms': 13212   1009.0\n",
            "7347     102.0\n",
            "6067     873.0\n",
            "9315     224.0\n",
            "10036   1529.0\n",
            "         ...  \n",
            "10859   8396.0\n",
            "10971   5460.0\n",
            "1122    3050.0\n",
            "5722    2324.0\n",
            "7197    1574.0\n",
            "Name: total_rooms, Length: 17000, dtype: float64})\n",
            "{'total_rooms': array([1009.,  102.,  873., ..., 3050., 2324., 1574.])}\n",
            "('ds:', <RepeatDataset shapes: ({total_rooms: (?,)}, (?,)), types: ({total_rooms: tf.float64}, tf.float64)>)\n",
            "('features:', {'total_rooms': <tf.Tensor 'IteratorGetNext:0' shape=(?,) dtype=float64>})\n",
            "('labels:', <tf.Tensor 'IteratorGetNext:1' shape=(?,) dtype=float64>)\n",
            "  period 00 : 225.63\n",
            "('features.items', <generator object iteritems at 0x7f241effa370>)\n",
            "('dict(features.items())', {'total_rooms': 13212   1009.0\n",
            "7347     102.0\n",
            "6067     873.0\n",
            "9315     224.0\n",
            "10036   1529.0\n",
            "         ...  \n",
            "10859   8396.0\n",
            "10971   5460.0\n",
            "1122    3050.0\n",
            "5722    2324.0\n",
            "7197    1574.0\n",
            "Name: total_rooms, Length: 17000, dtype: float64})\n",
            "{'total_rooms': array([1009.,  102.,  873., ..., 3050., 2324., 1574.])}\n",
            "('ds:', <RepeatDataset shapes: ({total_rooms: (?,)}, (?,)), types: ({total_rooms: tf.float64}, tf.float64)>)\n",
            "('features:', {'total_rooms': <tf.Tensor 'IteratorGetNext:0' shape=(?,) dtype=float64>})\n",
            "('labels:', <tf.Tensor 'IteratorGetNext:1' shape=(?,) dtype=float64>)\n",
            "('features.items', <generator object iteritems at 0x7f241f61bf50>)\n",
            "('dict(features.items())', {'total_rooms': 13212   1009.0\n",
            "7347     102.0\n",
            "6067     873.0\n",
            "9315     224.0\n",
            "10036   1529.0\n",
            "         ...  \n",
            "10859   8396.0\n",
            "10971   5460.0\n",
            "1122    3050.0\n",
            "5722    2324.0\n",
            "7197    1574.0\n",
            "Name: total_rooms, Length: 17000, dtype: float64})\n",
            "{'total_rooms': array([1009.,  102.,  873., ..., 3050., 2324., 1574.])}\n",
            "('ds:', <RepeatDataset shapes: ({total_rooms: (?,)}, (?,)), types: ({total_rooms: tf.float64}, tf.float64)>)\n",
            "('features:', {'total_rooms': <tf.Tensor 'IteratorGetNext:0' shape=(?,) dtype=float64>})\n",
            "('labels:', <tf.Tensor 'IteratorGetNext:1' shape=(?,) dtype=float64>)\n",
            "  period 01 : 214.42\n",
            "('features.items', <generator object iteritems at 0x7f241f9b9e60>)\n",
            "('dict(features.items())', {'total_rooms': 13212   1009.0\n",
            "7347     102.0\n",
            "6067     873.0\n",
            "9315     224.0\n",
            "10036   1529.0\n",
            "         ...  \n",
            "10859   8396.0\n",
            "10971   5460.0\n",
            "1122    3050.0\n",
            "5722    2324.0\n",
            "7197    1574.0\n",
            "Name: total_rooms, Length: 17000, dtype: float64})\n",
            "{'total_rooms': array([1009.,  102.,  873., ..., 3050., 2324., 1574.])}\n",
            "('ds:', <RepeatDataset shapes: ({total_rooms: (?,)}, (?,)), types: ({total_rooms: tf.float64}, tf.float64)>)\n",
            "('features:', {'total_rooms': <tf.Tensor 'IteratorGetNext:0' shape=(?,) dtype=float64>})\n",
            "('labels:', <tf.Tensor 'IteratorGetNext:1' shape=(?,) dtype=float64>)\n",
            "('features.items', <generator object iteritems at 0x7f241f9b9eb0>)\n",
            "('dict(features.items())', {'total_rooms': 13212   1009.0\n",
            "7347     102.0\n",
            "6067     873.0\n",
            "9315     224.0\n",
            "10036   1529.0\n",
            "         ...  \n",
            "10859   8396.0\n",
            "10971   5460.0\n",
            "1122    3050.0\n",
            "5722    2324.0\n",
            "7197    1574.0\n",
            "Name: total_rooms, Length: 17000, dtype: float64})\n",
            "{'total_rooms': array([1009.,  102.,  873., ..., 3050., 2324., 1574.])}\n",
            "('ds:', <RepeatDataset shapes: ({total_rooms: (?,)}, (?,)), types: ({total_rooms: tf.float64}, tf.float64)>)\n",
            "('features:', {'total_rooms': <tf.Tensor 'IteratorGetNext:0' shape=(?,) dtype=float64>})\n",
            "('labels:', <tf.Tensor 'IteratorGetNext:1' shape=(?,) dtype=float64>)\n",
            "  period 02 : 204.44\n",
            "('features.items', <generator object iteritems at 0x7f241f9b9d70>)\n",
            "('dict(features.items())', {'total_rooms': 13212   1009.0\n",
            "7347     102.0\n",
            "6067     873.0\n",
            "9315     224.0\n",
            "10036   1529.0\n",
            "         ...  \n",
            "10859   8396.0\n",
            "10971   5460.0\n",
            "1122    3050.0\n",
            "5722    2324.0\n",
            "7197    1574.0\n",
            "Name: total_rooms, Length: 17000, dtype: float64})\n",
            "{'total_rooms': array([1009.,  102.,  873., ..., 3050., 2324., 1574.])}\n",
            "('ds:', <RepeatDataset shapes: ({total_rooms: (?,)}, (?,)), types: ({total_rooms: tf.float64}, tf.float64)>)\n",
            "('features:', {'total_rooms': <tf.Tensor 'IteratorGetNext:0' shape=(?,) dtype=float64>})\n",
            "('labels:', <tf.Tensor 'IteratorGetNext:1' shape=(?,) dtype=float64>)\n",
            "('features.items', <generator object iteritems at 0x7f241f9aea50>)\n",
            "('dict(features.items())', {'total_rooms': 13212   1009.0\n",
            "7347     102.0\n",
            "6067     873.0\n",
            "9315     224.0\n",
            "10036   1529.0\n",
            "         ...  \n",
            "10859   8396.0\n",
            "10971   5460.0\n",
            "1122    3050.0\n",
            "5722    2324.0\n",
            "7197    1574.0\n",
            "Name: total_rooms, Length: 17000, dtype: float64})\n",
            "{'total_rooms': array([1009.,  102.,  873., ..., 3050., 2324., 1574.])}\n",
            "('ds:', <RepeatDataset shapes: ({total_rooms: (?,)}, (?,)), types: ({total_rooms: tf.float64}, tf.float64)>)\n",
            "('features:', {'total_rooms': <tf.Tensor 'IteratorGetNext:0' shape=(?,) dtype=float64>})\n",
            "('labels:', <tf.Tensor 'IteratorGetNext:1' shape=(?,) dtype=float64>)\n",
            "  period 03 : 195.33\n",
            "('features.items', <generator object iteritems at 0x7f241f9b95a0>)\n",
            "('dict(features.items())', {'total_rooms': 13212   1009.0\n",
            "7347     102.0\n",
            "6067     873.0\n",
            "9315     224.0\n",
            "10036   1529.0\n",
            "         ...  \n",
            "10859   8396.0\n",
            "10971   5460.0\n",
            "1122    3050.0\n",
            "5722    2324.0\n",
            "7197    1574.0\n",
            "Name: total_rooms, Length: 17000, dtype: float64})\n",
            "{'total_rooms': array([1009.,  102.,  873., ..., 3050., 2324., 1574.])}\n",
            "('ds:', <RepeatDataset shapes: ({total_rooms: (?,)}, (?,)), types: ({total_rooms: tf.float64}, tf.float64)>)\n",
            "('features:', {'total_rooms': <tf.Tensor 'IteratorGetNext:0' shape=(?,) dtype=float64>})\n",
            "('labels:', <tf.Tensor 'IteratorGetNext:1' shape=(?,) dtype=float64>)\n",
            "('features.items', <generator object iteritems at 0x7f241f62aaa0>)\n",
            "('dict(features.items())', {'total_rooms': 13212   1009.0\n",
            "7347     102.0\n",
            "6067     873.0\n",
            "9315     224.0\n",
            "10036   1529.0\n",
            "         ...  \n",
            "10859   8396.0\n",
            "10971   5460.0\n",
            "1122    3050.0\n",
            "5722    2324.0\n",
            "7197    1574.0\n",
            "Name: total_rooms, Length: 17000, dtype: float64})\n",
            "{'total_rooms': array([1009.,  102.,  873., ..., 3050., 2324., 1574.])}\n",
            "('ds:', <RepeatDataset shapes: ({total_rooms: (?,)}, (?,)), types: ({total_rooms: tf.float64}, tf.float64)>)\n",
            "('features:', {'total_rooms': <tf.Tensor 'IteratorGetNext:0' shape=(?,) dtype=float64>})\n",
            "('labels:', <tf.Tensor 'IteratorGetNext:1' shape=(?,) dtype=float64>)\n",
            "  period 04 : 187.55\n",
            "('features.items', <generator object iteritems at 0x7f241effae60>)\n",
            "('dict(features.items())', {'total_rooms': 13212   1009.0\n",
            "7347     102.0\n",
            "6067     873.0\n",
            "9315     224.0\n",
            "10036   1529.0\n",
            "         ...  \n",
            "10859   8396.0\n",
            "10971   5460.0\n",
            "1122    3050.0\n",
            "5722    2324.0\n",
            "7197    1574.0\n",
            "Name: total_rooms, Length: 17000, dtype: float64})\n",
            "{'total_rooms': array([1009.,  102.,  873., ..., 3050., 2324., 1574.])}\n",
            "('ds:', <RepeatDataset shapes: ({total_rooms: (?,)}, (?,)), types: ({total_rooms: tf.float64}, tf.float64)>)\n",
            "('features:', {'total_rooms': <tf.Tensor 'IteratorGetNext:0' shape=(?,) dtype=float64>})\n",
            "('labels:', <tf.Tensor 'IteratorGetNext:1' shape=(?,) dtype=float64>)\n",
            "('features.items', <generator object iteritems at 0x7f241f61b910>)\n",
            "('dict(features.items())', {'total_rooms': 13212   1009.0\n",
            "7347     102.0\n",
            "6067     873.0\n",
            "9315     224.0\n",
            "10036   1529.0\n",
            "         ...  \n",
            "10859   8396.0\n",
            "10971   5460.0\n",
            "1122    3050.0\n",
            "5722    2324.0\n",
            "7197    1574.0\n",
            "Name: total_rooms, Length: 17000, dtype: float64})\n",
            "{'total_rooms': array([1009.,  102.,  873., ..., 3050., 2324., 1574.])}\n",
            "('ds:', <RepeatDataset shapes: ({total_rooms: (?,)}, (?,)), types: ({total_rooms: tf.float64}, tf.float64)>)\n",
            "('features:', {'total_rooms': <tf.Tensor 'IteratorGetNext:0' shape=(?,) dtype=float64>})\n",
            "('labels:', <tf.Tensor 'IteratorGetNext:1' shape=(?,) dtype=float64>)\n",
            "  period 05 : 181.34\n",
            "('features.items', <generator object iteritems at 0x7f241f9aeaf0>)\n",
            "('dict(features.items())', {'total_rooms': 13212   1009.0\n",
            "7347     102.0\n",
            "6067     873.0\n",
            "9315     224.0\n",
            "10036   1529.0\n",
            "         ...  \n",
            "10859   8396.0\n",
            "10971   5460.0\n",
            "1122    3050.0\n",
            "5722    2324.0\n",
            "7197    1574.0\n",
            "Name: total_rooms, Length: 17000, dtype: float64})\n",
            "{'total_rooms': array([1009.,  102.,  873., ..., 3050., 2324., 1574.])}\n",
            "('ds:', <RepeatDataset shapes: ({total_rooms: (?,)}, (?,)), types: ({total_rooms: tf.float64}, tf.float64)>)\n",
            "('features:', {'total_rooms': <tf.Tensor 'IteratorGetNext:0' shape=(?,) dtype=float64>})\n",
            "('labels:', <tf.Tensor 'IteratorGetNext:1' shape=(?,) dtype=float64>)\n",
            "('features.items', <generator object iteritems at 0x7f241f9aea50>)\n",
            "('dict(features.items())', {'total_rooms': 13212   1009.0\n",
            "7347     102.0\n",
            "6067     873.0\n",
            "9315     224.0\n",
            "10036   1529.0\n",
            "         ...  \n",
            "10859   8396.0\n",
            "10971   5460.0\n",
            "1122    3050.0\n",
            "5722    2324.0\n",
            "7197    1574.0\n",
            "Name: total_rooms, Length: 17000, dtype: float64})\n",
            "{'total_rooms': array([1009.,  102.,  873., ..., 3050., 2324., 1574.])}\n",
            "('ds:', <RepeatDataset shapes: ({total_rooms: (?,)}, (?,)), types: ({total_rooms: tf.float64}, tf.float64)>)\n",
            "('features:', {'total_rooms': <tf.Tensor 'IteratorGetNext:0' shape=(?,) dtype=float64>})\n",
            "('labels:', <tf.Tensor 'IteratorGetNext:1' shape=(?,) dtype=float64>)\n",
            "  period 06 : 176.79\n",
            "('features.items', <generator object iteritems at 0x7f2421dbe5f0>)\n",
            "('dict(features.items())', {'total_rooms': 13212   1009.0\n",
            "7347     102.0\n",
            "6067     873.0\n",
            "9315     224.0\n",
            "10036   1529.0\n",
            "         ...  \n",
            "10859   8396.0\n",
            "10971   5460.0\n",
            "1122    3050.0\n",
            "5722    2324.0\n",
            "7197    1574.0\n",
            "Name: total_rooms, Length: 17000, dtype: float64})\n",
            "{'total_rooms': array([1009.,  102.,  873., ..., 3050., 2324., 1574.])}\n",
            "('ds:', <RepeatDataset shapes: ({total_rooms: (?,)}, (?,)), types: ({total_rooms: tf.float64}, tf.float64)>)\n",
            "('features:', {'total_rooms': <tf.Tensor 'IteratorGetNext:0' shape=(?,) dtype=float64>})\n",
            "('labels:', <tf.Tensor 'IteratorGetNext:1' shape=(?,) dtype=float64>)\n",
            "('features.items', <generator object iteritems at 0x7f241effa140>)\n",
            "('dict(features.items())', {'total_rooms': 13212   1009.0\n",
            "7347     102.0\n",
            "6067     873.0\n",
            "9315     224.0\n",
            "10036   1529.0\n",
            "         ...  \n",
            "10859   8396.0\n",
            "10971   5460.0\n",
            "1122    3050.0\n",
            "5722    2324.0\n",
            "7197    1574.0\n",
            "Name: total_rooms, Length: 17000, dtype: float64})\n",
            "{'total_rooms': array([1009.,  102.,  873., ..., 3050., 2324., 1574.])}\n",
            "('ds:', <RepeatDataset shapes: ({total_rooms: (?,)}, (?,)), types: ({total_rooms: tf.float64}, tf.float64)>)\n",
            "('features:', {'total_rooms': <tf.Tensor 'IteratorGetNext:0' shape=(?,) dtype=float64>})\n",
            "('labels:', <tf.Tensor 'IteratorGetNext:1' shape=(?,) dtype=float64>)\n"
          ],
          "name": "stdout"
        },
        {
          "output_type": "stream",
          "text": [
            "  period 07 : 172.26\n",
            "('features.items', <generator object iteritems at 0x7f241f9b9f50>)\n",
            "('dict(features.items())', {'total_rooms': 13212   1009.0\n",
            "7347     102.0\n",
            "6067     873.0\n",
            "9315     224.0\n",
            "10036   1529.0\n",
            "         ...  \n",
            "10859   8396.0\n",
            "10971   5460.0\n",
            "1122    3050.0\n",
            "5722    2324.0\n",
            "7197    1574.0\n",
            "Name: total_rooms, Length: 17000, dtype: float64})\n",
            "{'total_rooms': array([1009.,  102.,  873., ..., 3050., 2324., 1574.])}\n",
            "('ds:', <RepeatDataset shapes: ({total_rooms: (?,)}, (?,)), types: ({total_rooms: tf.float64}, tf.float64)>)\n",
            "('features:', {'total_rooms': <tf.Tensor 'IteratorGetNext:0' shape=(?,) dtype=float64>})\n",
            "('labels:', <tf.Tensor 'IteratorGetNext:1' shape=(?,) dtype=float64>)\n",
            "('features.items', <generator object iteritems at 0x7f241f9b9f50>)\n",
            "('dict(features.items())', {'total_rooms': 13212   1009.0\n",
            "7347     102.0\n",
            "6067     873.0\n",
            "9315     224.0\n",
            "10036   1529.0\n",
            "         ...  \n",
            "10859   8396.0\n",
            "10971   5460.0\n",
            "1122    3050.0\n",
            "5722    2324.0\n",
            "7197    1574.0\n",
            "Name: total_rooms, Length: 17000, dtype: float64})\n",
            "{'total_rooms': array([1009.,  102.,  873., ..., 3050., 2324., 1574.])}\n",
            "('ds:', <RepeatDataset shapes: ({total_rooms: (?,)}, (?,)), types: ({total_rooms: tf.float64}, tf.float64)>)\n",
            "('features:', {'total_rooms': <tf.Tensor 'IteratorGetNext:0' shape=(?,) dtype=float64>})\n",
            "('labels:', <tf.Tensor 'IteratorGetNext:1' shape=(?,) dtype=float64>)\n",
            "  period 08 : 169.73\n",
            "('features.items', <generator object iteritems at 0x7f2421dbe4b0>)\n",
            "('dict(features.items())', {'total_rooms': 13212   1009.0\n",
            "7347     102.0\n",
            "6067     873.0\n",
            "9315     224.0\n",
            "10036   1529.0\n",
            "         ...  \n",
            "10859   8396.0\n",
            "10971   5460.0\n",
            "1122    3050.0\n",
            "5722    2324.0\n",
            "7197    1574.0\n",
            "Name: total_rooms, Length: 17000, dtype: float64})\n",
            "{'total_rooms': array([1009.,  102.,  873., ..., 3050., 2324., 1574.])}\n",
            "('ds:', <RepeatDataset shapes: ({total_rooms: (?,)}, (?,)), types: ({total_rooms: tf.float64}, tf.float64)>)\n",
            "('features:', {'total_rooms': <tf.Tensor 'IteratorGetNext:0' shape=(?,) dtype=float64>})\n",
            "('labels:', <tf.Tensor 'IteratorGetNext:1' shape=(?,) dtype=float64>)\n",
            "('features.items', <generator object iteritems at 0x7f241f9ae640>)\n",
            "('dict(features.items())', {'total_rooms': 13212   1009.0\n",
            "7347     102.0\n",
            "6067     873.0\n",
            "9315     224.0\n",
            "10036   1529.0\n",
            "         ...  \n",
            "10859   8396.0\n",
            "10971   5460.0\n",
            "1122    3050.0\n",
            "5722    2324.0\n",
            "7197    1574.0\n",
            "Name: total_rooms, Length: 17000, dtype: float64})\n",
            "{'total_rooms': array([1009.,  102.,  873., ..., 3050., 2324., 1574.])}\n",
            "('ds:', <RepeatDataset shapes: ({total_rooms: (?,)}, (?,)), types: ({total_rooms: tf.float64}, tf.float64)>)\n",
            "('features:', {'total_rooms': <tf.Tensor 'IteratorGetNext:0' shape=(?,) dtype=float64>})\n",
            "('labels:', <tf.Tensor 'IteratorGetNext:1' shape=(?,) dtype=float64>)\n",
            "  period 09 : 168.18\n",
            "Model training finished.\n"
          ],
          "name": "stdout"
        },
        {
          "output_type": "display_data",
          "data": {
            "text/plain": [
              "       predictions  targets\n",
              "count      17000.0  17000.0\n",
              "mean         111.6    207.3\n",
              "std           92.0    116.0\n",
              "min            0.1     15.0\n",
              "25%           61.7    119.4\n",
              "50%           89.8    180.4\n",
              "75%          133.0    265.0\n",
              "max         1600.9    500.0"
            ],
            "text/html": [
              "<div>\n",
              "<style scoped>\n",
              "    .dataframe tbody tr th:only-of-type {\n",
              "        vertical-align: middle;\n",
              "    }\n",
              "\n",
              "    .dataframe tbody tr th {\n",
              "        vertical-align: top;\n",
              "    }\n",
              "\n",
              "    .dataframe thead th {\n",
              "        text-align: right;\n",
              "    }\n",
              "</style>\n",
              "<table border=\"1\" class=\"dataframe\">\n",
              "  <thead>\n",
              "    <tr style=\"text-align: right;\">\n",
              "      <th></th>\n",
              "      <th>predictions</th>\n",
              "      <th>targets</th>\n",
              "    </tr>\n",
              "  </thead>\n",
              "  <tbody>\n",
              "    <tr>\n",
              "      <th>count</th>\n",
              "      <td>17000.0</td>\n",
              "      <td>17000.0</td>\n",
              "    </tr>\n",
              "    <tr>\n",
              "      <th>mean</th>\n",
              "      <td>111.6</td>\n",
              "      <td>207.3</td>\n",
              "    </tr>\n",
              "    <tr>\n",
              "      <th>std</th>\n",
              "      <td>92.0</td>\n",
              "      <td>116.0</td>\n",
              "    </tr>\n",
              "    <tr>\n",
              "      <th>min</th>\n",
              "      <td>0.1</td>\n",
              "      <td>15.0</td>\n",
              "    </tr>\n",
              "    <tr>\n",
              "      <th>25%</th>\n",
              "      <td>61.7</td>\n",
              "      <td>119.4</td>\n",
              "    </tr>\n",
              "    <tr>\n",
              "      <th>50%</th>\n",
              "      <td>89.8</td>\n",
              "      <td>180.4</td>\n",
              "    </tr>\n",
              "    <tr>\n",
              "      <th>75%</th>\n",
              "      <td>133.0</td>\n",
              "      <td>265.0</td>\n",
              "    </tr>\n",
              "    <tr>\n",
              "      <th>max</th>\n",
              "      <td>1600.9</td>\n",
              "      <td>500.0</td>\n",
              "    </tr>\n",
              "  </tbody>\n",
              "</table>\n",
              "</div>"
            ]
          },
          "metadata": {
            "tags": []
          }
        },
        {
          "output_type": "stream",
          "text": [
            "Final RMSE (on training data): 168.18\n"
          ],
          "name": "stdout"
        },
        {
          "output_type": "display_data",
          "data": {
            "image/png": "[encoded data removed]",
            "text/plain": [
              "<matplotlib.figure.Figure at 0x7f241f85e5d0>"
            ]
          },
          "metadata": {
            "tags": []
          }
        }
      ]
    },
    {
      "metadata": {
        "id": "ajVM7rkoYXeL",
        "colab_type": "text"
      },
      "cell_type": "markdown",
      "source": [
        " ### 解决方案\n",
        "\n",
        "点击下方即可查看一种可能的解决方案。"
      ]
    },
    {
      "metadata": {
        "id": "T3zmldDwYy5c",
        "colab_type": "code",
        "colab": {}
      },
      "cell_type": "code",
      "source": [
        "train_model(\n",
        "    learning_rate=0.00002,\n",
        "    steps=500,\n",
        "    batch_size=5\n",
        ")"
      ],
      "execution_count": 0,
      "outputs": []
    },
    {
      "metadata": {
        "id": "M8H0_D4vYa49",
        "colab_type": "text"
      },
      "cell_type": "markdown",
      "source": [
        " 这只是一种可能的配置；也许还有同样能够提供理想结果的其他设置组合。请注意，总体而言，本练习重点不是查找*一种最佳*设置，而是帮助您对模型配置调整如何影响预测质量有一个直观的认识。"
      ]
    },
    {
      "metadata": {
        "id": "QU5sLyYTqzqL",
        "colab_type": "text"
      },
      "cell_type": "markdown",
      "source": [
        " ### 有适用于模型调整的标准启发法吗？\n",
        "\n",
        "这是一个常见的问题。简短的答案是，不同超参数的效果取决于数据。因此，不存在必须遵循的规则，您需要对自己的数据进行测试。\n",
        "\n",
        "即便如此，我们仍在下面列出了几条可为您提供指导的经验法则：\n",
        "\n",
        " * 训练误差应该稳步减小，刚开始是急剧减小，最终应随着训练收敛达到平稳状态。\n",
        " * 如果训练尚未收敛，尝试运行更长的时间。\n",
        " * 如果训练误差减小速度过慢，则提高学习速率也许有助于加快其减小速度。\n",
        "   * 但有时如果学习速率过高，训练误差的减小速度反而会变慢。\n",
        " * 如果训练误差变化很大，尝试降低学习速率。\n",
        "   * 较低的学习速率和较大的步数/较大的批量大小通常是不错的组合。\n",
        " * 批量大小过小也会导致不稳定情况。不妨先尝试 100 或 1000 等较大的值，然后逐渐减小值的大小，直到出现性能降低的情况。\n",
        "\n",
        "重申一下，切勿严格遵循这些经验法则，因为效果取决于数据。请始终进行试验和验证。"
      ]
    },
    {
      "metadata": {
        "id": "GpV-uF_cBCBU",
        "colab_type": "text"
      },
      "cell_type": "markdown",
      "source": [
        " ## 任务 2：尝试其他特征\n",
        "\n",
        "使用 `population` 特征替换 `total_rooms` 特征，看看能否取得更好的效果。\n",
        "\n",
        "这部分不必超过 5 分钟。"
      ]
    },
    {
      "metadata": {
        "id": "YMyOxzb0ZlAH",
        "colab_type": "code",
        "colab": {}
      },
      "cell_type": "code",
      "source": [
        "# YOUR CODE HERE"
      ],
      "execution_count": 0,
      "outputs": []
    },
    {
      "metadata": {
        "id": "ci1ISxxrZ7v0",
        "colab_type": "text"
      },
      "cell_type": "markdown",
      "source": [
        " ### 解决方案\n",
        "\n",
        "点击下方即可查看一种可能的解决方案。"
      ]
    },
    {
      "metadata": {
        "id": "SjdQQCduZ7BV",
        "colab_type": "code",
        "colab": {
          "base_uri": "https://localhost:8080/",
          "height": 6756
        },
        "outputId": "585aeacf-440d-4b41-9a90-df6c927b70df"
      },
      "cell_type": "code",
      "source": [
        "train_model(\n",
        "    learning_rate=0.00002,\n",
        "    steps=1000,\n",
        "    batch_size=5,\n",
        "    input_feature=\"population\"\n",
        ")"
      ],
      "execution_count": 25,
      "outputs": [
        {
          "output_type": "stream",
          "text": [
            "Training model...\n",
            "RMSE (on training data):\n",
            "('features.items', <generator object iteritems at 0x7f241f8a9230>)\n",
            "('dict(features.items())', {'population': 13212    929.0\n",
            "7347      54.0\n",
            "6067    1086.0\n",
            "9315     147.0\n",
            "10036   1543.0\n",
            "         ...  \n",
            "10859   3952.0\n",
            "10971   2645.0\n",
            "1122    1444.0\n",
            "5722    3020.0\n",
            "7197    1323.0\n",
            "Name: population, Length: 17000, dtype: float64})\n",
            "{'population': array([ 929.,   54., 1086., ..., 1444., 3020., 1323.])}\n",
            "('ds:', <RepeatDataset shapes: ({population: (?,)}, (?,)), types: ({population: tf.float64}, tf.float64)>)\n",
            "('features:', {'population': <tf.Tensor 'IteratorGetNext:0' shape=(?,) dtype=float64>})\n",
            "('labels:', <tf.Tensor 'IteratorGetNext:1' shape=(?,) dtype=float64>)\n",
            "('features.items', <generator object iteritems at 0x7f241f8a9af0>)\n",
            "('dict(features.items())', {'population': 13212    929.0\n",
            "7347      54.0\n",
            "6067    1086.0\n",
            "9315     147.0\n",
            "10036   1543.0\n",
            "         ...  \n",
            "10859   3952.0\n",
            "10971   2645.0\n",
            "1122    1444.0\n",
            "5722    3020.0\n",
            "7197    1323.0\n",
            "Name: population, Length: 17000, dtype: float64})\n",
            "{'population': array([ 929.,   54., 1086., ..., 1444., 3020., 1323.])}\n",
            "('ds:', <RepeatDataset shapes: ({population: (?,)}, (?,)), types: ({population: tf.float64}, tf.float64)>)\n",
            "('features:', {'population': <tf.Tensor 'IteratorGetNext:0' shape=(?,) dtype=float64>})\n",
            "('labels:', <tf.Tensor 'IteratorGetNext:1' shape=(?,) dtype=float64>)\n",
            "  period 00 : 225.63\n",
            "('features.items', <generator object iteritems at 0x7f241f8a9b40>)\n",
            "('dict(features.items())', {'population': 13212    929.0\n",
            "7347      54.0\n",
            "6067    1086.0\n",
            "9315     147.0\n",
            "10036   1543.0\n",
            "         ...  \n",
            "10859   3952.0\n",
            "10971   2645.0\n",
            "1122    1444.0\n",
            "5722    3020.0\n",
            "7197    1323.0\n",
            "Name: population, Length: 17000, dtype: float64})\n",
            "{'population': array([ 929.,   54., 1086., ..., 1444., 3020., 1323.])}\n",
            "('ds:', <RepeatDataset shapes: ({population: (?,)}, (?,)), types: ({population: tf.float64}, tf.float64)>)\n",
            "('features:', {'population': <tf.Tensor 'IteratorGetNext:0' shape=(?,) dtype=float64>})\n",
            "('labels:', <tf.Tensor 'IteratorGetNext:1' shape=(?,) dtype=float64>)\n",
            "('features.items', <generator object iteritems at 0x7f241f782d70>)\n",
            "('dict(features.items())', {'population': 13212    929.0\n",
            "7347      54.0\n",
            "6067    1086.0\n",
            "9315     147.0\n",
            "10036   1543.0\n",
            "         ...  \n",
            "10859   3952.0\n",
            "10971   2645.0\n",
            "1122    1444.0\n",
            "5722    3020.0\n",
            "7197    1323.0\n",
            "Name: population, Length: 17000, dtype: float64})\n",
            "{'population': array([ 929.,   54., 1086., ..., 1444., 3020., 1323.])}\n",
            "('ds:', <RepeatDataset shapes: ({population: (?,)}, (?,)), types: ({population: tf.float64}, tf.float64)>)\n",
            "('features:', {'population': <tf.Tensor 'IteratorGetNext:0' shape=(?,) dtype=float64>})\n",
            "('labels:', <tf.Tensor 'IteratorGetNext:1' shape=(?,) dtype=float64>)\n",
            "  period 01 : 214.62\n",
            "('features.items', <generator object iteritems at 0x7f241f674a00>)\n",
            "('dict(features.items())', {'population': 13212    929.0\n",
            "7347      54.0\n",
            "6067    1086.0\n",
            "9315     147.0\n",
            "10036   1543.0\n",
            "         ...  \n",
            "10859   3952.0\n",
            "10971   2645.0\n",
            "1122    1444.0\n",
            "5722    3020.0\n",
            "7197    1323.0\n",
            "Name: population, Length: 17000, dtype: float64})\n",
            "{'population': array([ 929.,   54., 1086., ..., 1444., 3020., 1323.])}\n",
            "('ds:', <RepeatDataset shapes: ({population: (?,)}, (?,)), types: ({population: tf.float64}, tf.float64)>)\n",
            "('features:', {'population': <tf.Tensor 'IteratorGetNext:0' shape=(?,) dtype=float64>})\n",
            "('labels:', <tf.Tensor 'IteratorGetNext:1' shape=(?,) dtype=float64>)\n",
            "('features.items', <generator object iteritems at 0x7f241f6745f0>)\n",
            "('dict(features.items())', {'population': 13212    929.0\n",
            "7347      54.0\n",
            "6067    1086.0\n",
            "9315     147.0\n",
            "10036   1543.0\n",
            "         ...  \n",
            "10859   3952.0\n",
            "10971   2645.0\n",
            "1122    1444.0\n",
            "5722    3020.0\n",
            "7197    1323.0\n",
            "Name: population, Length: 17000, dtype: float64})\n",
            "{'population': array([ 929.,   54., 1086., ..., 1444., 3020., 1323.])}\n",
            "('ds:', <RepeatDataset shapes: ({population: (?,)}, (?,)), types: ({population: tf.float64}, tf.float64)>)\n",
            "('features:', {'population': <tf.Tensor 'IteratorGetNext:0' shape=(?,) dtype=float64>})\n",
            "('labels:', <tf.Tensor 'IteratorGetNext:1' shape=(?,) dtype=float64>)\n",
            "  period 02 : 204.86\n",
            "('features.items', <generator object iteritems at 0x7f241f69c640>)\n",
            "('dict(features.items())', {'population': 13212    929.0\n",
            "7347      54.0\n",
            "6067    1086.0\n",
            "9315     147.0\n",
            "10036   1543.0\n",
            "         ...  \n",
            "10859   3952.0\n",
            "10971   2645.0\n",
            "1122    1444.0\n",
            "5722    3020.0\n",
            "7197    1323.0\n",
            "Name: population, Length: 17000, dtype: float64})\n",
            "{'population': array([ 929.,   54., 1086., ..., 1444., 3020., 1323.])}\n",
            "('ds:', <RepeatDataset shapes: ({population: (?,)}, (?,)), types: ({population: tf.float64}, tf.float64)>)\n",
            "('features:', {'population': <tf.Tensor 'IteratorGetNext:0' shape=(?,) dtype=float64>})\n",
            "('labels:', <tf.Tensor 'IteratorGetNext:1' shape=(?,) dtype=float64>)\n",
            "('features.items', <generator object iteritems at 0x7f241f690d70>)\n",
            "('dict(features.items())', {'population': 13212    929.0\n",
            "7347      54.0\n",
            "6067    1086.0\n",
            "9315     147.0\n",
            "10036   1543.0\n",
            "         ...  \n",
            "10859   3952.0\n",
            "10971   2645.0\n",
            "1122    1444.0\n",
            "5722    3020.0\n",
            "7197    1323.0\n",
            "Name: population, Length: 17000, dtype: float64})\n",
            "{'population': array([ 929.,   54., 1086., ..., 1444., 3020., 1323.])}\n",
            "('ds:', <RepeatDataset shapes: ({population: (?,)}, (?,)), types: ({population: tf.float64}, tf.float64)>)\n",
            "('features:', {'population': <tf.Tensor 'IteratorGetNext:0' shape=(?,) dtype=float64>})\n",
            "('labels:', <tf.Tensor 'IteratorGetNext:1' shape=(?,) dtype=float64>)\n",
            "  period 03 : 196.10\n",
            "('features.items', <generator object iteritems at 0x7f241f6740a0>)\n",
            "('dict(features.items())', {'population': 13212    929.0\n",
            "7347      54.0\n",
            "6067    1086.0\n",
            "9315     147.0\n",
            "10036   1543.0\n",
            "         ...  \n",
            "10859   3952.0\n",
            "10971   2645.0\n",
            "1122    1444.0\n",
            "5722    3020.0\n",
            "7197    1323.0\n",
            "Name: population, Length: 17000, dtype: float64})\n",
            "{'population': array([ 929.,   54., 1086., ..., 1444., 3020., 1323.])}\n",
            "('ds:', <RepeatDataset shapes: ({population: (?,)}, (?,)), types: ({population: tf.float64}, tf.float64)>)\n",
            "('features:', {'population': <tf.Tensor 'IteratorGetNext:0' shape=(?,) dtype=float64>})\n",
            "('labels:', <tf.Tensor 'IteratorGetNext:1' shape=(?,) dtype=float64>)\n",
            "('features.items', <generator object iteritems at 0x7f241f674e10>)\n",
            "('dict(features.items())', {'population': 13212    929.0\n",
            "7347      54.0\n",
            "6067    1086.0\n",
            "9315     147.0\n",
            "10036   1543.0\n",
            "         ...  \n",
            "10859   3952.0\n",
            "10971   2645.0\n",
            "1122    1444.0\n",
            "5722    3020.0\n",
            "7197    1323.0\n",
            "Name: population, Length: 17000, dtype: float64})\n",
            "{'population': array([ 929.,   54., 1086., ..., 1444., 3020., 1323.])}\n",
            "('ds:', <RepeatDataset shapes: ({population: (?,)}, (?,)), types: ({population: tf.float64}, tf.float64)>)\n",
            "('features:', {'population': <tf.Tensor 'IteratorGetNext:0' shape=(?,) dtype=float64>})\n",
            "('labels:', <tf.Tensor 'IteratorGetNext:1' shape=(?,) dtype=float64>)\n",
            "  period 04 : 189.12\n",
            "('features.items', <generator object iteritems at 0x7f241f731e60>)\n",
            "('dict(features.items())', {'population': 13212    929.0\n",
            "7347      54.0\n",
            "6067    1086.0\n",
            "9315     147.0\n",
            "10036   1543.0\n",
            "         ...  \n",
            "10859   3952.0\n",
            "10971   2645.0\n",
            "1122    1444.0\n",
            "5722    3020.0\n",
            "7197    1323.0\n",
            "Name: population, Length: 17000, dtype: float64})\n",
            "{'population': array([ 929.,   54., 1086., ..., 1444., 3020., 1323.])}\n",
            "('ds:', <RepeatDataset shapes: ({population: (?,)}, (?,)), types: ({population: tf.float64}, tf.float64)>)\n",
            "('features:', {'population': <tf.Tensor 'IteratorGetNext:0' shape=(?,) dtype=float64>})\n",
            "('labels:', <tf.Tensor 'IteratorGetNext:1' shape=(?,) dtype=float64>)\n",
            "('features.items', <generator object iteritems at 0x7f241f7825a0>)\n",
            "('dict(features.items())', {'population': 13212    929.0\n",
            "7347      54.0\n",
            "6067    1086.0\n",
            "9315     147.0\n",
            "10036   1543.0\n",
            "         ...  \n",
            "10859   3952.0\n",
            "10971   2645.0\n",
            "1122    1444.0\n",
            "5722    3020.0\n",
            "7197    1323.0\n",
            "Name: population, Length: 17000, dtype: float64})\n",
            "{'population': array([ 929.,   54., 1086., ..., 1444., 3020., 1323.])}\n",
            "('ds:', <RepeatDataset shapes: ({population: (?,)}, (?,)), types: ({population: tf.float64}, tf.float64)>)\n",
            "('features:', {'population': <tf.Tensor 'IteratorGetNext:0' shape=(?,) dtype=float64>})\n",
            "('labels:', <tf.Tensor 'IteratorGetNext:1' shape=(?,) dtype=float64>)\n",
            "  period 05 : 184.24\n",
            "('features.items', <generator object iteritems at 0x7f241f671eb0>)\n",
            "('dict(features.items())', {'population': 13212    929.0\n",
            "7347      54.0\n",
            "6067    1086.0\n",
            "9315     147.0\n",
            "10036   1543.0\n",
            "         ...  \n",
            "10859   3952.0\n",
            "10971   2645.0\n",
            "1122    1444.0\n",
            "5722    3020.0\n",
            "7197    1323.0\n",
            "Name: population, Length: 17000, dtype: float64})\n",
            "{'population': array([ 929.,   54., 1086., ..., 1444., 3020., 1323.])}\n",
            "('ds:', <RepeatDataset shapes: ({population: (?,)}, (?,)), types: ({population: tf.float64}, tf.float64)>)\n",
            "('features:', {'population': <tf.Tensor 'IteratorGetNext:0' shape=(?,) dtype=float64>})\n",
            "('labels:', <tf.Tensor 'IteratorGetNext:1' shape=(?,) dtype=float64>)\n",
            "('features.items', <generator object iteritems at 0x7f241f674370>)\n",
            "('dict(features.items())', {'population': 13212    929.0\n",
            "7347      54.0\n",
            "6067    1086.0\n",
            "9315     147.0\n",
            "10036   1543.0\n",
            "         ...  \n",
            "10859   3952.0\n",
            "10971   2645.0\n",
            "1122    1444.0\n",
            "5722    3020.0\n",
            "7197    1323.0\n",
            "Name: population, Length: 17000, dtype: float64})\n",
            "{'population': array([ 929.,   54., 1086., ..., 1444., 3020., 1323.])}\n",
            "('ds:', <RepeatDataset shapes: ({population: (?,)}, (?,)), types: ({population: tf.float64}, tf.float64)>)\n",
            "('features:', {'population': <tf.Tensor 'IteratorGetNext:0' shape=(?,) dtype=float64>})\n",
            "('labels:', <tf.Tensor 'IteratorGetNext:1' shape=(?,) dtype=float64>)\n",
            "  period 06 : 180.51\n",
            "('features.items', <generator object iteritems at 0x7f241f731b90>)\n",
            "('dict(features.items())', {'population': 13212    929.0\n",
            "7347      54.0\n",
            "6067    1086.0\n",
            "9315     147.0\n",
            "10036   1543.0\n",
            "         ...  \n",
            "10859   3952.0\n",
            "10971   2645.0\n",
            "1122    1444.0\n",
            "5722    3020.0\n",
            "7197    1323.0\n",
            "Name: population, Length: 17000, dtype: float64})\n",
            "{'population': array([ 929.,   54., 1086., ..., 1444., 3020., 1323.])}\n",
            "('ds:', <RepeatDataset shapes: ({population: (?,)}, (?,)), types: ({population: tf.float64}, tf.float64)>)\n",
            "('features:', {'population': <tf.Tensor 'IteratorGetNext:0' shape=(?,) dtype=float64>})\n",
            "('labels:', <tf.Tensor 'IteratorGetNext:1' shape=(?,) dtype=float64>)\n",
            "('features.items', <generator object iteritems at 0x7f241f731230>)\n",
            "('dict(features.items())', {'population': 13212    929.0\n",
            "7347      54.0\n",
            "6067    1086.0\n",
            "9315     147.0\n",
            "10036   1543.0\n",
            "         ...  \n",
            "10859   3952.0\n",
            "10971   2645.0\n",
            "1122    1444.0\n",
            "5722    3020.0\n",
            "7197    1323.0\n",
            "Name: population, Length: 17000, dtype: float64})\n",
            "{'population': array([ 929.,   54., 1086., ..., 1444., 3020., 1323.])}\n",
            "('ds:', <RepeatDataset shapes: ({population: (?,)}, (?,)), types: ({population: tf.float64}, tf.float64)>)\n",
            "('features:', {'population': <tf.Tensor 'IteratorGetNext:0' shape=(?,) dtype=float64>})\n",
            "('labels:', <tf.Tensor 'IteratorGetNext:1' shape=(?,) dtype=float64>)\n"
          ],
          "name": "stdout"
        },
        {
          "output_type": "stream",
          "text": [
            "  period 07 : 178.24\n",
            "('features.items', <generator object iteritems at 0x7f241f69c820>)\n",
            "('dict(features.items())', {'population': 13212    929.0\n",
            "7347      54.0\n",
            "6067    1086.0\n",
            "9315     147.0\n",
            "10036   1543.0\n",
            "         ...  \n",
            "10859   3952.0\n",
            "10971   2645.0\n",
            "1122    1444.0\n",
            "5722    3020.0\n",
            "7197    1323.0\n",
            "Name: population, Length: 17000, dtype: float64})\n",
            "{'population': array([ 929.,   54., 1086., ..., 1444., 3020., 1323.])}\n",
            "('ds:', <RepeatDataset shapes: ({population: (?,)}, (?,)), types: ({population: tf.float64}, tf.float64)>)\n",
            "('features:', {'population': <tf.Tensor 'IteratorGetNext:0' shape=(?,) dtype=float64>})\n",
            "('labels:', <tf.Tensor 'IteratorGetNext:1' shape=(?,) dtype=float64>)\n",
            "('features.items', <generator object iteritems at 0x7f241f69c820>)\n",
            "('dict(features.items())', {'population': 13212    929.0\n",
            "7347      54.0\n",
            "6067    1086.0\n",
            "9315     147.0\n",
            "10036   1543.0\n",
            "         ...  \n",
            "10859   3952.0\n",
            "10971   2645.0\n",
            "1122    1444.0\n",
            "5722    3020.0\n",
            "7197    1323.0\n",
            "Name: population, Length: 17000, dtype: float64})\n",
            "{'population': array([ 929.,   54., 1086., ..., 1444., 3020., 1323.])}\n",
            "('ds:', <RepeatDataset shapes: ({population: (?,)}, (?,)), types: ({population: tf.float64}, tf.float64)>)\n",
            "('features:', {'population': <tf.Tensor 'IteratorGetNext:0' shape=(?,) dtype=float64>})\n",
            "('labels:', <tf.Tensor 'IteratorGetNext:1' shape=(?,) dtype=float64>)\n",
            "  period 08 : 176.80\n",
            "('features.items', <generator object iteritems at 0x7f241f69a460>)\n",
            "('dict(features.items())', {'population': 13212    929.0\n",
            "7347      54.0\n",
            "6067    1086.0\n",
            "9315     147.0\n",
            "10036   1543.0\n",
            "         ...  \n",
            "10859   3952.0\n",
            "10971   2645.0\n",
            "1122    1444.0\n",
            "5722    3020.0\n",
            "7197    1323.0\n",
            "Name: population, Length: 17000, dtype: float64})\n",
            "{'population': array([ 929.,   54., 1086., ..., 1444., 3020., 1323.])}\n",
            "('ds:', <RepeatDataset shapes: ({population: (?,)}, (?,)), types: ({population: tf.float64}, tf.float64)>)\n",
            "('features:', {'population': <tf.Tensor 'IteratorGetNext:0' shape=(?,) dtype=float64>})\n",
            "('labels:', <tf.Tensor 'IteratorGetNext:1' shape=(?,) dtype=float64>)\n",
            "('features.items', <generator object iteritems at 0x7f241f69a0f0>)\n",
            "('dict(features.items())', {'population': 13212    929.0\n",
            "7347      54.0\n",
            "6067    1086.0\n",
            "9315     147.0\n",
            "10036   1543.0\n",
            "         ...  \n",
            "10859   3952.0\n",
            "10971   2645.0\n",
            "1122    1444.0\n",
            "5722    3020.0\n",
            "7197    1323.0\n",
            "Name: population, Length: 17000, dtype: float64})\n",
            "{'population': array([ 929.,   54., 1086., ..., 1444., 3020., 1323.])}\n",
            "('ds:', <RepeatDataset shapes: ({population: (?,)}, (?,)), types: ({population: tf.float64}, tf.float64)>)\n",
            "('features:', {'population': <tf.Tensor 'IteratorGetNext:0' shape=(?,) dtype=float64>})\n",
            "('labels:', <tf.Tensor 'IteratorGetNext:1' shape=(?,) dtype=float64>)\n",
            "  period 09 : 176.16\n",
            "Model training finished.\n"
          ],
          "name": "stdout"
        },
        {
          "output_type": "display_data",
          "data": {
            "text/plain": [
              "       predictions  targets\n",
              "count      17000.0  17000.0\n",
              "mean         117.2    207.3\n",
              "std           94.1    116.0\n",
              "min            0.2     15.0\n",
              "25%           64.8    119.4\n",
              "50%           95.7    180.4\n",
              "75%          141.1    265.0\n",
              "max         2925.9    500.0"
            ],
            "text/html": [
              "<div>\n",
              "<style scoped>\n",
              "    .dataframe tbody tr th:only-of-type {\n",
              "        vertical-align: middle;\n",
              "    }\n",
              "\n",
              "    .dataframe tbody tr th {\n",
              "        vertical-align: top;\n",
              "    }\n",
              "\n",
              "    .dataframe thead th {\n",
              "        text-align: right;\n",
              "    }\n",
              "</style>\n",
              "<table border=\"1\" class=\"dataframe\">\n",
              "  <thead>\n",
              "    <tr style=\"text-align: right;\">\n",
              "      <th></th>\n",
              "      <th>predictions</th>\n",
              "      <th>targets</th>\n",
              "    </tr>\n",
              "  </thead>\n",
              "  <tbody>\n",
              "    <tr>\n",
              "      <th>count</th>\n",
              "      <td>17000.0</td>\n",
              "      <td>17000.0</td>\n",
              "    </tr>\n",
              "    <tr>\n",
              "      <th>mean</th>\n",
              "      <td>117.2</td>\n",
              "      <td>207.3</td>\n",
              "    </tr>\n",
              "    <tr>\n",
              "      <th>std</th>\n",
              "      <td>94.1</td>\n",
              "      <td>116.0</td>\n",
              "    </tr>\n",
              "    <tr>\n",
              "      <th>min</th>\n",
              "      <td>0.2</td>\n",
              "      <td>15.0</td>\n",
              "    </tr>\n",
              "    <tr>\n",
              "      <th>25%</th>\n",
              "      <td>64.8</td>\n",
              "      <td>119.4</td>\n",
              "    </tr>\n",
              "    <tr>\n",
              "      <th>50%</th>\n",
              "      <td>95.7</td>\n",
              "      <td>180.4</td>\n",
              "    </tr>\n",
              "    <tr>\n",
              "      <th>75%</th>\n",
              "      <td>141.1</td>\n",
              "      <td>265.0</td>\n",
              "    </tr>\n",
              "    <tr>\n",
              "      <th>max</th>\n",
              "      <td>2925.9</td>\n",
              "      <td>500.0</td>\n",
              "    </tr>\n",
              "  </tbody>\n",
              "</table>\n",
              "</div>"
            ]
          },
          "metadata": {
            "tags": []
          }
        },
        {
          "output_type": "stream",
          "text": [
            "Final RMSE (on training data): 176.16\n"
          ],
          "name": "stdout"
        },
        {
          "output_type": "display_data",
          "data": {
            "image/png": "[encoded data removed]",
            "text/plain": [
              "<matplotlib.figure.Figure at 0x7f241f573250>"
            ]
          },
          "metadata": {
            "tags": []
          }
        }
      ]
    }
  ]
}